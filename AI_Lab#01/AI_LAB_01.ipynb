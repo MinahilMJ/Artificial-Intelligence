{
  "nbformat": 4,
  "nbformat_minor": 0,
  "metadata": {
    "colab": {
      "provenance": []
    },
    "kernelspec": {
      "name": "python3",
      "display_name": "Python 3"
    },
    "language_info": {
      "name": "python"
    }
  },
  "cells": [
    {
      "cell_type": "code",
      "source": [
        "#QUESTION 1.1\n",
        "def CountingDigits(num):\n",
        "    count = 0\n",
        "    while num > 0:\n",
        "        num //= 10\n",
        "        count += 1\n",
        "    return count\n",
        "number=int(input(\"Enter a number : \"))\n",
        "TotalNoOfDigits = CountingDigits(number)\n",
        "print(TotalNoOfDigits)"
      ],
      "metadata": {
        "colab": {
          "base_uri": "https://localhost:8080/"
        },
        "id": "OLN5OK2Ynvo0",
        "outputId": "0979210b-9bff-47d0-d553-a60a20261125"
      },
      "execution_count": null,
      "outputs": [
        {
          "output_type": "stream",
          "name": "stdout",
          "text": [
            "Enter a number : 76589\n",
            "5\n"
          ]
        }
      ]
    },
    {
      "cell_type": "code",
      "source": [
        "#QUESTION 1.2\n",
        "def subtotal(Arr):\n",
        "    sum=0\n",
        "    count=0\n",
        "    UpdatedArray=[]\n",
        "    for i in range(0, len(Arr)):\n",
        "        sum += Arr[i]\n",
        "        UpdatedArray.append(sum)\n",
        "        count+=1\n",
        "    avg=sum/count\n",
        "    return UpdatedArray,avg\n",
        "#input Array\n",
        "Array=[]\n",
        "num=int(input(\"Enter number of elements in an Array : \"))\n",
        "for i in range (0, num):\n",
        "  Element=float(input())\n",
        "  Array.append(Element)\n",
        "ModArray,average = subtotal(Array)\n",
        "print(\"Modified Array\",ModArray)\n",
        "print(\"Average = \",average)"
      ],
      "metadata": {
        "colab": {
          "base_uri": "https://localhost:8080/"
        },
        "id": "IP3B_uLtnvhe",
        "outputId": "1d3cec9a-a417-44fe-c921-d65364794db1"
      },
      "execution_count": null,
      "outputs": [
        {
          "output_type": "stream",
          "name": "stdout",
          "text": [
            "Enter number of elements in an Array : 5\n",
            "5.8\n",
            "2.6\n",
            "9.1\n",
            "3.4\n",
            "7.0\n",
            "Modified Array [5.8, 8.4, 17.5, 20.9, 27.9]\n",
            "Average =  5.58\n"
          ]
        }
      ]
    },
    {
      "cell_type": "code",
      "execution_count": null,
      "metadata": {
        "colab": {
          "base_uri": "https://localhost:8080/"
        },
        "id": "8tkjubRZmj04",
        "outputId": "e40f04d0-77d2-4798-f4c4-f7d3935ec8ec"
      },
      "outputs": [
        {
          "output_type": "stream",
          "name": "stdout",
          "text": [
            "Total No. of letters are: 95\n",
            "Total No. of spaces are: 25\n",
            "Total No. of uppercase letters are: 17\n",
            "Total No. of lowercase letters: 78\n",
            "Total No. of digits: 10\n"
          ]
        }
      ],
      "source": [
        "#QUESTION # 1.3\n",
        "def count(path):\n",
        "    with open(path, 'r') as file:\n",
        "        file_ = file.read()\n",
        "    NoOfAlphabets = sum(i.isalpha() for i in file_)\n",
        "    NoOfSpaces = file_.count(' ')\n",
        "    NoOfUpperCaseLetters = sum(i.isupper() for i in file_)\n",
        "    NoOfLowerCaseLetters = sum(i.islower() for i in file_)\n",
        "    NoOfDigits = sum(i.isdigit() for i in file_)\n",
        "\n",
        "    total =  f\"Total No. of letters are: {NoOfAlphabets}\\n\"\\\n",
        "             f\"Total No. of spaces are: {NoOfSpaces}\\n\"\\\n",
        "             f\"Total No. of uppercase letters are: {NoOfUpperCaseLetters}\\n\"\\\n",
        "             f\"Total No. of lowercase letters: {NoOfLowerCaseLetters}\\n\"\\\n",
        "             f\"Total No. of digits: {NoOfDigits}\"\n",
        "    return total\n",
        "path = \"/content/text.txt\"\n",
        "output = count(path)\n",
        "print(output)"
      ]
    },
    {
      "cell_type": "code",
      "source": [
        "#QUESTION # 1.4\n",
        "from datetime import datetime, timedelta\n",
        "def datetime_to_timestamp(date):\n",
        "    # Reference date (e.g., 1900-01-01 00:00:00)\n",
        "    ref_date = datetime(1970, 1, 1, 0, 0, 0)\n",
        "    delta = date - ref_date\n",
        "    sec = delta.days * 24 * 3600 + delta.seconds + delta.microseconds / 1e6\n",
        "    return sec\n",
        "\n",
        "def timestamp_to_datetime(timestamp):\n",
        "    ref_date = datetime(1970, 1, 1, 0, 0, 0)\n",
        "    date = ref_date + timedelta(seconds=timestamp)\n",
        "    return date\n",
        "input = datetime(2024, 1, 26, 7, 53, 31, 715391)\n",
        "timestamp = datetime_to_timestamp(input)\n",
        "print(\"Datetime:\", input)\n",
        "print(\"Timestamp:\", timestamp)\n",
        "\n",
        "output = timestamp_to_datetime(timestamp)\n",
        "print(\"Converted back to Datetime:\", output)"
      ],
      "metadata": {
        "colab": {
          "base_uri": "https://localhost:8080/"
        },
        "id": "qCng1fx31Joz",
        "outputId": "a954c1e2-dcdc-4d9a-9df6-160de19a4932"
      },
      "execution_count": null,
      "outputs": [
        {
          "output_type": "stream",
          "name": "stdout",
          "text": [
            "Datetime: 2024-01-26 07:53:31.715391\n",
            "Timestamp: 1706255611.715391\n",
            "Converted back to Datetime: 2024-01-26 07:53:31.715391\n"
          ]
        }
      ]
    },
    {
      "cell_type": "code",
      "source": [
        "#QUESTION # 1.5\n",
        "def find_paths(matrix):\n",
        "    def is_valid_move(x, y):\n",
        "        return 0 <= x < len(matrix) and 0 <= y < len(matrix[0]) and matrix[x][y] == 0\n",
        "\n",
        "    def dfs(x, y, path):\n",
        "        if x == 4 and y == 4:\n",
        "            all_paths.append(path[:])\n",
        "            return\n",
        "\n",
        "        for dx, dy in [(0, 1), (1, 0), (0, -1), (-1, 0)]:\n",
        "            new_x, new_y = x + dx, y + dy\n",
        "            if is_valid_move(new_x, new_y):\n",
        "                matrix[new_x][new_y] = 1\n",
        "                path.append((new_x, new_y))\n",
        "                dfs(new_x, new_y, path)\n",
        "                matrix[new_x][new_y] = 0\n",
        "                path.pop()\n",
        "\n",
        "    all_paths = []\n",
        "    start_x, start_y = 1, 1\n",
        "    matrix[start_x][start_y] = 1\n",
        "    dfs(start_x, start_y, [(start_x, start_y)])\n",
        "    return all_paths\n",
        "\n",
        "def print_matrix_with_path(matrix, path):\n",
        "    for row in range(len(matrix)):\n",
        "        for col in range(len(matrix[0])):\n",
        "            if (row, col) == path[0]:\n",
        "                print(\"A\", end=\" \")\n",
        "            elif (row, col) == path[-1]:\n",
        "                print(\"H\", end=\" \")\n",
        "            elif (row, col) in path:\n",
        "                print(\"*\", end=\" \")\n",
        "            elif matrix[row][col] == 2:\n",
        "                print(\"X\", end=\" \")\n",
        "            else:\n",
        "                print(\"0\", end=\" \")\n",
        "        print()\n",
        "\n",
        "def main():\n",
        "    matrix = [\n",
        "        [0, 0, 0, 0, 0, 0],\n",
        "        [0, 1, 0, 0, 0, 0],\n",
        "        [0, 0, 2, 0, 0, 0],\n",
        "        [0, 0, 0, 2, 0, 0],\n",
        "        [0, 0, 0, 0, 1, 0],\n",
        "        [0, 0, 0, 0, 0, 0]\n",
        "    ]\n",
        "\n",
        "    paths = find_paths(matrix)\n",
        "\n",
        "    if not paths:\n",
        "        print(\"No paths found.\")\n",
        "    else:\n",
        "        shortest_path = min(paths, key=len)\n",
        "        print(\"Shortest path:\", shortest_path)\n",
        "        print_matrix_with_path(matrix, shortest_path)\n",
        "\n",
        "if __name__ == \"__main__\":\n",
        "    main()"
      ],
      "metadata": {
        "id": "PS7rhVvi_jBO",
        "outputId": "5a15dc72-0951-49ae-9335-c6eb13adaef8",
        "colab": {
          "base_uri": "https://localhost:8080/"
        }
      },
      "execution_count": null,
      "outputs": [
        {
          "output_type": "stream",
          "name": "stdout",
          "text": [
            "No paths found.\n"
          ]
        }
      ]
    }
  ]
}