{
  "cells": [
    {
      "cell_type": "code",
      "execution_count": null,
      "metadata": {
        "id": "mZ2V-vy4KX1c",
        "colab": {
          "base_uri": "https://localhost:8080/"
        },
        "outputId": "c1ac6a0b-38b2-4f42-8d9b-03b51da3edd7"
      },
      "outputs": [
        {
          "output_type": "stream",
          "name": "stdout",
          "text": [
            "[5, 15, 25, 50]\n"
          ]
        }
      ],
      "source": [
        "# Task 1\n",
        "def removeValue(sampleList, val):\n",
        "  sampleList = [x for x in sampleList if x != val]\n",
        "  return sampleList\n",
        "list_ = [5, 20, 15, 20, 25, 50, 20]\n",
        "result = removeValue(list_, 20)\n",
        "print(result)"
      ]
    },
    {
      "cell_type": "code",
      "execution_count": null,
      "metadata": {
        "id": "6XLBuJ7qKVc_",
        "colab": {
          "base_uri": "https://localhost:8080/"
        },
        "outputId": "122c1f9e-a2b2-4986-897f-30f9de05f1cb"
      },
      "outputs": [
        {
          "output_type": "stream",
          "name": "stdout",
          "text": [
            "[5, 205, 15, 205, 25, 50, 205]\n"
          ]
        }
      ],
      "source": [
        "# Task 2\n",
        "def findAndReplaceValue(sampleList, valToFind, valToReplaceW):\n",
        "    # LAB (begin solution)\n",
        "    sampleList = [valToReplaceW if x == valToFind else x for x in sampleList]\n",
        "    return sampleList\n",
        "    # LAB (end solution)\n",
        "# Test case\n",
        "list_ = [5, 20, 15, 20, 25, 50, 20]\n",
        "result = findAndReplaceValue(list_, 20, 205)\n",
        "print(result)"
      ]
    },
    {
      "cell_type": "code",
      "execution_count": null,
      "metadata": {
        "id": "rHM9y9yjKU8j",
        "colab": {
          "base_uri": "https://localhost:8080/"
        },
        "outputId": "ddd1429e-191f-4f25-f7bc-70199e3c7aa9"
      },
      "outputs": [
        {
          "output_type": "stream",
          "name": "stdout",
          "text": [
            "['SEDAN', 'SUV', 'PICKUP', 'MINIVAN', 'VAN', 'BICYCLE', 'MOTORCYCLE']\n"
          ]
        }
      ],
      "source": [
        "# Task 3\n",
        "def vehicleWeight(vehicleDict):\n",
        "    # LAB (begin solution)\n",
        "    vehicle_list = [\n",
        "        key.upper()\n",
        "        for key, weight in vehicleDict.items()\n",
        "        if weight < 5000\n",
        "    ]\n",
        "    return vehicle_list\n",
        "    # LAB (end solution)\n",
        "\n",
        "# Input dictionary\n",
        "vehicle_dict = {\n",
        "    \"Sedan\": 1500,\n",
        "    \"SUV\": 2000,\n",
        "    \"Pickup\": 2500,\n",
        "    \"Minivan\": 1600,\n",
        "    \"Van\": 2400,\n",
        "    \"Semi\": 13600,\n",
        "    \"Bicycle\": 7,\n",
        "    \"Motorcycle\": 110\n",
        "}\n",
        "\n",
        "# Test case\n",
        "result = vehicleWeight(vehicle_dict)\n",
        "print(result)"
      ]
    },
    {
      "cell_type": "code",
      "execution_count": null,
      "metadata": {
        "id": "VVexaC52JXNg",
        "colab": {
          "base_uri": "https://localhost:8080/"
        },
        "outputId": "29253014-37cf-41de-f93f-e2a4be6f24de"
      },
      "outputs": [
        {
          "output_type": "stream",
          "name": "stdout",
          "text": [
            "(('c', 11), ('a', 23), ('d', 29), ('b', 37))\n"
          ]
        }
      ],
      "source": [
        "# Task 4\n",
        "def sortTuple(tupleSort):\n",
        "    # LAB (begin solution)\n",
        "    sorted_tuple = tuple(sorted(tupleSort, key=lambda x: x[1]))\n",
        "    return sorted_tuple\n",
        "    # LAB (end solution)\n",
        "# Input tuple\n",
        "tuple1 = (('a', 23), ('b', 37), ('c', 11), ('d',29))\n",
        "# Test case\n",
        "result = sortTuple(tuple1)\n",
        "print(result)"
      ]
    },
    {
      "cell_type": "code",
      "execution_count": null,
      "metadata": {
        "id": "wSeuLqs4JOZk",
        "colab": {
          "base_uri": "https://localhost:8080/"
        },
        "outputId": "0db1ccb7-9b04-4ab9-fb59-d19b9ff59e32"
      },
      "outputs": [
        {
          "output_type": "stream",
          "name": "stdout",
          "text": [
            "True\n",
            "False\n"
          ]
        }
      ],
      "source": [
        "# Task 5\n",
        "def checkSameTuple(checkTuple):\n",
        "    # LAB (begin solution)\n",
        "    result = len(set(checkTuple)) == 1\n",
        "    return result\n",
        "    # LAB (end solution)\n",
        "# Input tuple\n",
        "tuple1 = (45, 45, 45, 45)\n",
        "# Test case\n",
        "output1 = checkSameTuple(tuple1)\n",
        "print(output1)\n",
        "\n",
        "# Input tuple\n",
        "tuple2 = (45, 5, 45, 45)\n",
        "# Test case\n",
        "output2 = checkSameTuple(tuple2)\n",
        "print(output2)"
      ]
    },
    {
      "cell_type": "code",
      "execution_count": null,
      "metadata": {
        "id": "WIbv72qtxdLZ",
        "colab": {
          "base_uri": "https://localhost:8080/"
        },
        "outputId": "6f177fd4-0889-4ba0-b424-c14b1c9dfccb"
      },
      "outputs": [
        {
          "output_type": "stream",
          "name": "stdout",
          "text": [
            "Stock Tuples: [('25 Jan 2001', 43.5, 25, 'CAT', 92.45), ('25 Jan 2001', 42.8, 50, 'DD', 51.19), ('25 Jan 2001', 42.1, 75, 'EK', 34.87), ('25 Jan 2001', 37.58, 100, 'GM', 37.58)]\n",
            "Total Purchase Price: 10143.0\n",
            "Total Profit/Loss: 1100.9999999999995\n"
          ]
        }
      ],
      "source": [
        "# Task 6\n",
        "def totalPurchasePrice(stocks):\n",
        "    # LAB (begin solution)\n",
        "    total_price = 0\n",
        "    for stock in stocks:\n",
        "        total_price += stock[1] * stock[2]\n",
        "    return total_price\n",
        "    # LAB (end solution)\n",
        "\n",
        "def totalProfitLoss(stocks):\n",
        "    # LAB (begin solution)\n",
        "    total_profit_loss = 0\n",
        "    for stock in stocks:\n",
        "        total_profit_loss += (stock[4] - stock[1]) * stock[2]\n",
        "    return total_profit_loss\n",
        "    # LAB (end solution)\n",
        "\n",
        "# Example stocks data\n",
        "stocks_data = [\n",
        "    (\"25 Jan 2001\", 43.50, 25, \"CAT\", 92.45),\n",
        "    (\"25 Jan 2001\", 42.80, 50, \"DD\", 51.19),\n",
        "    (\"25 Jan 2001\", 42.10, 75, \"EK\", 34.87),\n",
        "    (\"25 Jan 2001\", 37.58, 100, \"GM\", 37.58)\n",
        "]\n",
        "\n",
        "# Creating stock tuples\n",
        "stock_tuples = []\n",
        "for stock in stocks_data:\n",
        "    stock_tuple = stockTuple(*stock)\n",
        "    stock_tuples.append(stock_tuple)\n",
        "\n",
        "# Calculating total purchase price and total profit/loss\n",
        "total_purchase_price = totalPurchasePrice(stock_tuples)\n",
        "total_profit_loss = totalProfitLoss(stock_tuples)\n",
        "\n",
        "# Printing results\n",
        "print(\"Stock Tuples:\", stock_tuples)\n",
        "print(\"Total Purchase Price:\", total_purchase_price)\n",
        "print(\"Total Profit/Loss:\", total_profit_loss)"
      ]
    },
    {
      "cell_type": "code",
      "execution_count": null,
      "metadata": {
        "id": "zYElLc7S4CjJ",
        "colab": {
          "base_uri": "https://localhost:8080/"
        },
        "outputId": "b0b7dbeb-6977-439b-8085-a600d777b5f0"
      },
      "outputs": [
        {
          "output_type": "stream",
          "name": "stdout",
          "text": [
            "{'Kelly': {'Designation': 'Application Developer', 'Salary': 8000}, 'Emma': {'Designation': 'Application Developer', 'Salary': 8000}, 'John': {'Designation': 'Application Developer', 'Salary': 8000}}\n"
          ]
        }
      ],
      "source": [
        "# Task 7\n",
        "def initializeDictionary(employees, defaults):\n",
        "    # LAB (begin solution)\n",
        "    initialized_dict = {}\n",
        "    for employee in employees:\n",
        "        initialized_dict[employee] = defaults.copy()\n",
        "    return initialized_dict\n",
        "    # LAB (end solution)\n",
        "# Input data\n",
        "employees = ['Kelly', 'Emma', 'John']\n",
        "defaults = {\"Designation\": 'Application Developer', \"Salary\": 8000}\n",
        "# Test case\n",
        "output = initializeDictionary(employees, defaults)\n",
        "print(output)"
      ]
    },
    {
      "cell_type": "code",
      "execution_count": null,
      "metadata": {
        "id": "-RztIR145i7c",
        "colab": {
          "base_uri": "https://localhost:8080/"
        },
        "outputId": "64d4acab-1644-4fa9-b9dc-d59099093b1a"
      },
      "outputs": [
        {
          "output_type": "stream",
          "name": "stdout",
          "text": [
            "{'Age': 25, 'City': 'New York'}\n"
          ]
        }
      ],
      "source": [
        "# Task 8\n",
        "def deleteDictKeys(sampleDict, keysToRemove):\n",
        "    # LAB (begin solution)\n",
        "    updated_dict = {}\n",
        "    for key in sampleDict:\n",
        "        if key not in keysToRemove:\n",
        "            updated_dict[key] = sampleDict[key]\n",
        "    return updated_dict\n",
        "    # LAB (end solution)\n",
        "# Input data\n",
        "sampleDict = {\n",
        "    \"Name\": \"Kelly\",\n",
        "    \"Age\": 25,\n",
        "    \"Salary\": 8000,\n",
        "    \"City\": \"New York\"\n",
        "}\n",
        "keysToRemove = [\"Name\", \"Salary\"]\n",
        "# Test case\n",
        "output = deleteDictKeys(sampleDict, keysToRemove)\n",
        "print(output)"
      ]
    },
    {
      "cell_type": "code",
      "execution_count": null,
      "metadata": {
        "id": "4zwDRf_CH3-O"
      },
      "outputs": [],
      "source": [
        "'''\n",
        "def main():\n",
        "\n",
        "  list1 = [5, 20, 15, 20, 25, 50, 20]\n",
        "\n",
        "  resList = removeValue(list1, 20)\n",
        "  print(resList)\n",
        "\n",
        "  resList = findAndReplaceValue(list1, 20)\n",
        "  print(resList)\n",
        "\n",
        "  vehicleDict = {\"Sedan\": 1500, \"SUV\": 2000, \"Pickup\": 2500, \"Minivan\": 1600, \"Van\": 2400, \"Semi\": 13600, \"Bicycle\": 7, \"Motorcycle\": 110}\n",
        "  lst = vehicleWeight(vehicleDict)\n",
        "  print(lst)\n",
        "\n",
        "  tuple1 = (('a', 23),('b', 37),('c', 11), ('d',29))\n",
        "  tuple1 = sortTuple(tuple1)\n",
        "  print(tuple1)\n",
        "\n",
        "  tuple1 = (45, 45, 45, 45)\n",
        "  checkSame = checkSameTuple(tuple1)\n",
        "  print(checkSame)\n",
        "\n",
        "  print(totalPurchasePrice(stockTuple()))\n",
        "  print(totalProfitLoss(stockTuple()))\n",
        "\n",
        "  sampleDict = {\n",
        "  \"name\": \"Kelly\",\n",
        "  \"age\":25,\n",
        "  \"salary\": 8000,\n",
        "  \"city\": \"New york\"\n",
        "  }\n",
        "  keysToRemove = [\"name\", \"salary\"]\n",
        "  print(deleteDict(sampleDict, keysToRemove))\n",
        "\n",
        "  employees = ['Kelly', 'Emma', 'John']\n",
        "  defaults = {\"designation\": 'Application Developer', \"salary\": 8000}\n",
        "\n",
        "  resDict = initializeDict(employees, defaults)\n",
        "  print(resDict)\n",
        "'''"
      ]
    },
    {
      "cell_type": "code",
      "execution_count": null,
      "metadata": {
        "id": "IOHxSo9EHvWi"
      },
      "outputs": [],
      "source": [
        "'''\n",
        "Python files .py are modules. Modules can define variables, functions, and classes.\n",
        "When a Python interpreter reads a Python file, it first sets a few special variables.\n",
        "Then it executes the code from the file.\n",
        "\n",
        "One of those variables is called __name__.\n",
        "\n",
        "When the interpreter runs a module, the __name__ variable will be set as  __main__\n",
        "if the module that is being run is the main program.\n",
        "\n",
        "If the code is importing the module from another module, then the __name__\n",
        "variable will be set to that module’s name.\n",
        "\n",
        "# Standard boilerplate to call the main() function.\n",
        "if __name__ == '__main__':\n",
        "  main()'''"
      ]
    }
  ],
  "metadata": {
    "colab": {
      "provenance": []
    },
    "kernelspec": {
      "name": "python3",
      "display_name": "Python 3"
    },
    "language_info": {
      "name": "python"
    }
  },
  "nbformat": 4,
  "nbformat_minor": 0
}