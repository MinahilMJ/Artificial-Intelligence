{
  "nbformat": 4,
  "nbformat_minor": 0,
  "metadata": {
    "colab": {
      "provenance": []
    },
    "kernelspec": {
      "name": "python3",
      "display_name": "Python 3"
    },
    "language_info": {
      "name": "python"
    }
  },
  "cells": [
    {
      "cell_type": "code",
      "execution_count": null,
      "metadata": {
        "colab": {
          "base_uri": "https://localhost:8080/"
        },
        "id": "fhABMulH3qT_",
        "outputId": "aa9d7097-9e53-4e6e-b8a8-41fbf66bc1d7"
      },
      "outputs": [
        {
          "output_type": "stream",
          "name": "stdout",
          "text": [
            "4\n"
          ]
        }
      ],
      "source": [
        "########### Question 1 ############\n",
        "def symmetric_difference_count(set1, set2):\n",
        "  unique = set()\n",
        "  for element in set1:\n",
        "      if element not in set2:\n",
        "          unique.add(element)\n",
        "  for element in set2:\n",
        "      if element not in set1:\n",
        "          unique.add(element)\n",
        "  return len(unique)\n",
        "  pass\n",
        "# Example usage:\n",
        "set1 = {1, 2, 3, 4, 5}\n",
        "set2 = {3, 4, 5, 6, 7}\n",
        "result = symmetric_difference_count(set1, set2)\n",
        "print(result)\n",
        "# Output should be the count of unique elements in the symmetric difference: 4"
      ]
    },
    {
      "cell_type": "code",
      "source": [
        "############ Question 2 ##############\n",
        "def is_disjoint_sets(set1, set2):\n",
        "  for element in set1:\n",
        "      if element in set2:\n",
        "          return False\n",
        "  return True\n",
        "  pass\n",
        "# Example usage:\n",
        "set1 = {1, 2, 3, 4, 5}\n",
        "set2 = {6, 7, 8, 9, 10}\n",
        "result = is_disjoint_sets(set1, set2)\n",
        "print(result)\n",
        "# Output should be True because set1 and set2 have no elements in common."
      ],
      "metadata": {
        "colab": {
          "base_uri": "https://localhost:8080/"
        },
        "id": "vPNWQ18T3zRY",
        "outputId": "408acde4-4115-4034-ef31-7ca7606910f9"
      },
      "execution_count": null,
      "outputs": [
        {
          "output_type": "stream",
          "name": "stdout",
          "text": [
            "True\n"
          ]
        }
      ]
    },
    {
      "cell_type": "code",
      "source": [
        "################ Question 3 ###############\n",
        "def maximize_satisfaction(preferences):\n",
        "    intersection = {}\n",
        "    elements = set()\n",
        "    for group in preferences:\n",
        "        for item in group:\n",
        "            elements.add(item)\n",
        "    for item_set in elements:\n",
        "        satisfaction = 0\n",
        "        for group in preferences:\n",
        "            for element in group:\n",
        "                if element == item_set:\n",
        "                    satisfaction += 1\n",
        "        intersection[item_set] = satisfaction\n",
        "    maximum = None\n",
        "    max_sat = -1\n",
        "    for item, satisfaction in intersection.items():\n",
        "        if satisfaction > max_sat:\n",
        "            maximum = item\n",
        "            max_sat = satisfaction\n",
        "    return frozenset({maximum})\n",
        "\n",
        "# Example usage:\n",
        "group1 = frozenset({1, 2, 3, 4, 5})\n",
        "group2 = frozenset({3, 4, 5, 6, 7})\n",
        "group3 = frozenset({1, 3, 5, 7, 9})\n",
        "group4 = frozenset({2, 4, 6, 8, 10})\n",
        "\n",
        "preferences = [group1, group2, group3, group4]\n",
        "result = maximize_satisfaction(preferences)\n",
        "print(result)\n",
        "# Output should be the item that maximizes overall satisfaction."
      ],
      "metadata": {
        "colab": {
          "base_uri": "https://localhost:8080/"
        },
        "id": "3WZxHgmn4TV_",
        "outputId": "785e47ca-c965-4bc0-ccd6-3f52b5cebb26"
      },
      "execution_count": null,
      "outputs": [
        {
          "output_type": "stream",
          "name": "stdout",
          "text": [
            "frozenset({3})\n"
          ]
        }
      ]
    },
    {
      "cell_type": "code",
      "source": [
        "################ Question 4 #####################\n",
        "def has_cycle(graph):\n",
        "  visited = set()\n",
        "  def dfs(node, parent):\n",
        "      visited.add(node)\n",
        "      for neighbor in graph[node]:\n",
        "          if neighbor not in visited:\n",
        "              if dfs(neighbor, node):\n",
        "                  return True\n",
        "          elif parent != neighbor:\n",
        "              return True\n",
        "      return False\n",
        "\n",
        "  for node in graph:\n",
        "      if node not in visited:\n",
        "          if dfs(node, None):\n",
        "              return True\n",
        "  return False\n",
        "\n",
        "# Example usage:\n",
        "undirected_graph = {\n",
        "    1: {2, 3},\n",
        "    2: {1, 4},\n",
        "    3: {1, 4},\n",
        "    4: {2, 3}\n",
        "}\n",
        "result = has_cycle(undirected_graph)\n",
        "print(result)\n",
        "# Output should be True, as the graph contains a cycle."
      ],
      "metadata": {
        "colab": {
          "base_uri": "https://localhost:8080/"
        },
        "id": "LvPTUW9V5hnZ",
        "outputId": "d95bc2be-e129-46a2-bf92-9aa2c1e89275"
      },
      "execution_count": null,
      "outputs": [
        {
          "output_type": "stream",
          "name": "stdout",
          "text": [
            "True\n"
          ]
        }
      ]
    },
    {
      "cell_type": "code",
      "source": [
        "################ Question 5 ###############\n",
        "def calculate_average(numbers):\n",
        "  SumOfValues, NumOfValues = 0, 0\n",
        "  for value in numbers:\n",
        "    SumOfValues += value\n",
        "    NumOfValues += 1\n",
        "  return SumOfValues / NumOfValues\n",
        "\n",
        "size=int(input(\"Enter the size of the list.\"))\n",
        "values=[]\n",
        "for i in range (size):\n",
        "  value=float(input(\"Value:\"))\n",
        "  values.append(value)\n",
        "average_result = calculate_average(values)\n",
        "print(f\"Average: {average_result}\")"
      ],
      "metadata": {
        "id": "lJUq0VLS7OOB",
        "colab": {
          "base_uri": "https://localhost:8080/"
        },
        "outputId": "78145c61-f556-4297-f8fa-f018b1593b69"
      },
      "execution_count": null,
      "outputs": [
        {
          "output_type": "stream",
          "name": "stdout",
          "text": [
            "Enter the size of the list.3\n",
            "Value:2\n",
            "Value:4\n",
            "Value:6\n",
            "Average: 4.0\n"
          ]
        }
      ]
    },
    {
      "cell_type": "code",
      "source": [
        "################ Question 6 ###############\n",
        "def analyze_grades(file_path=\"/content/grades.txt\"):\n",
        "    with open(file_path, \"r\") as file:\n",
        "        Marks = {}\n",
        "        for line in file:\n",
        "            Name, Mark = line.strip().split(\",\")\n",
        "            Marks[Name] = int(Mark)\n",
        "    print(\"Student with Highest Grade: \", max(Marks, key=Marks.get))\n",
        "    print(\"Average Marks: \", sum(Marks.values()) / len(Marks))\n",
        "analyze_grades()"
      ],
      "metadata": {
        "id": "NMkHxaXU-jTj",
        "colab": {
          "base_uri": "https://localhost:8080/"
        },
        "outputId": "74f92dce-81ed-4eac-95af-ee860f76e5af"
      },
      "execution_count": null,
      "outputs": [
        {
          "output_type": "stream",
          "name": "stdout",
          "text": [
            "Student with Highest Grade:  Eva\n",
            "Average Marks:  89.6\n"
          ]
        }
      ]
    }
  ]
}