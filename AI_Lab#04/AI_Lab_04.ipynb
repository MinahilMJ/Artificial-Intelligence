{
  "nbformat": 4,
  "nbformat_minor": 0,
  "metadata": {
    "colab": {
      "provenance": []
    },
    "kernelspec": {
      "name": "python3",
      "display_name": "Python 3"
    },
    "language_info": {
      "name": "python"
    }
  },
  "cells": [
    {
      "cell_type": "code",
      "source": [
        "filename = '/content/Q1_Lab#04.txt'"
      ],
      "metadata": {
        "id": "e99Xw8usvL8p"
      },
      "execution_count": null,
      "outputs": []
    },
    {
      "cell_type": "code",
      "source": [
        "def read_cube_from_file(filename):\n",
        "    cube = []\n",
        "    with open(filename, 'r') as file:\n",
        "        for line in file:\n",
        "            row = [c for c in line.strip()]\n",
        "            cube.append(row)\n",
        "    return cube"
      ],
      "metadata": {
        "id": "qkJ21E5j1ZI5"
      },
      "execution_count": null,
      "outputs": []
    },
    {
      "cell_type": "code",
      "source": [
        "cube = read_cube_from_file(filename)\n",
        "start = (0, 0)\n",
        "goal = (len(cube) - 1, len(cube[0]) - 1)"
      ],
      "metadata": {
        "id": "QiT4szD_FngV"
      },
      "execution_count": null,
      "outputs": []
    },
    {
      "cell_type": "code",
      "source": [
        "from collections import deque"
      ],
      "metadata": {
        "id": "dh3E9KME3cHi"
      },
      "execution_count": null,
      "outputs": []
    },
    {
      "cell_type": "code",
      "source": [
        "def bfs(cube, start, goal):\n",
        "    queue = deque([(start, [start])])\n",
        "    visited = set()\n",
        "    directions = [(0, 1), (1, 0), (0, -1), (-1, 0)]\n",
        "    while queue:\n",
        "        current, path = queue.popleft()\n",
        "        if current == goal:\n",
        "            return 1\n",
        "        if current not in visited:\n",
        "            visited.add(current)\n",
        "            for dx, dy in directions:\n",
        "                x, y = current\n",
        "                nx, ny = x + dx, y + dy\n",
        "                if 0 <= nx < len(cube) and 0 <= ny < len(cube[0]) and cube[nx][ny] != '1':\n",
        "                    neighbor = (nx, ny)\n",
        "                    queue.append((neighbor, path + [neighbor]))\n",
        "    return -1"
      ],
      "metadata": {
        "id": "sQCEENNH1omx"
      },
      "execution_count": null,
      "outputs": []
    },
    {
      "cell_type": "code",
      "source": [
        "bfs_result = bfs(cube, start, goal)\n",
        "print(\"BFS Result:\", bfs_result)"
      ],
      "metadata": {
        "colab": {
          "base_uri": "https://localhost:8080/"
        },
        "id": "_6cQbPVGz3VA",
        "outputId": "b423167f-ef63-418c-9e31-5ce97598a06a"
      },
      "execution_count": null,
      "outputs": [
        {
          "output_type": "stream",
          "name": "stdout",
          "text": [
            "BFS Result: 1\n"
          ]
        }
      ]
    },
    {
      "cell_type": "code",
      "source": [
        "def dfs(cube, start, goal):\n",
        "    stack = [(start, [start])]\n",
        "    visited = set()\n",
        "    directions = [(0, 1), (1, 0), (0, -1), (-1, 0)]\n",
        "    while stack:\n",
        "        current, path = stack.pop()\n",
        "        if current == goal:\n",
        "            return 1\n",
        "        if current not in visited:\n",
        "            visited.add(current)\n",
        "            for dx, dy in directions:\n",
        "                x, y = current\n",
        "                nx, ny = x + dx, y + dy\n",
        "                if 0 <= nx < len(cube) and 0 <= ny < len(cube[0]) and cube[nx][ny] != '1':\n",
        "                    neighbor = (nx, ny)\n",
        "                stack.append((neighbor, path + [neighbor]))\n",
        "    return -1"
      ],
      "metadata": {
        "id": "R2ZxWzHMEdR9"
      },
      "execution_count": null,
      "outputs": []
    },
    {
      "cell_type": "code",
      "source": [
        "dfs_result = dfs(cube, start, goal)\n",
        "print(\"DFS Result:\", dfs_result)"
      ],
      "metadata": {
        "colab": {
          "base_uri": "https://localhost:8080/"
        },
        "id": "1JVZXB0VFcgG",
        "outputId": "1b299e61-a97e-4f5d-9f32-3199f70bc8eb"
      },
      "execution_count": null,
      "outputs": [
        {
          "output_type": "stream",
          "name": "stdout",
          "text": [
            "DFS Result: 1\n"
          ]
        }
      ]
    }
  ]
}