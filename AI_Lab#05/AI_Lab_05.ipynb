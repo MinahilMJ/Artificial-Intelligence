{
  "nbformat": 4,
  "nbformat_minor": 0,
  "metadata": {
    "colab": {
      "provenance": []
    },
    "kernelspec": {
      "name": "python3",
      "display_name": "Python 3"
    },
    "language_info": {
      "name": "python"
    }
  },
  "cells": [
    {
      "cell_type": "code",
      "source": [
        "def initial_state():\n",
        "    return [[None, None, None], [None, None, None], [None, None, None]]"
      ],
      "metadata": {
        "id": "w_-3NBR2xLpR"
      },
      "execution_count": null,
      "outputs": []
    },
    {
      "cell_type": "code",
      "source": [
        "def print_board(board):\n",
        "    for row in board:\n",
        "        print(row)\n",
        "    print()"
      ],
      "metadata": {
        "id": "booPVNdX5pUY"
      },
      "execution_count": null,
      "outputs": []
    },
    {
      "cell_type": "code",
      "source": [
        "board=initial_state()\n",
        "b=print_board(board)\n",
        "print(b)"
      ],
      "metadata": {
        "colab": {
          "base_uri": "https://localhost:8080/"
        },
        "id": "xMCn8ZbWGcxH",
        "outputId": "45549ba1-6762-44ce-f254-eb51b9067abb"
      },
      "execution_count": null,
      "outputs": [
        {
          "output_type": "stream",
          "name": "stdout",
          "text": [
            "[None, None, None]\n",
            "[None, None, None]\n",
            "[None, None, None]\n",
            "\n",
            "None\n"
          ]
        }
      ]
    },
    {
      "cell_type": "code",
      "source": [
        "def player(board):\n",
        "    xCount = sum(row.count('X') for row in board)\n",
        "    oCount = sum(row.count('O') for row in board)\n",
        "    return 'O' if xCount > oCount else 'X'"
      ],
      "metadata": {
        "id": "3J3R2-0X3fSi"
      },
      "execution_count": null,
      "outputs": []
    },
    {
      "cell_type": "code",
      "source": [
        "def actions(board):\n",
        "    return {(i, j) for i in range(3) for j in range(3) if board[i][j] is None}"
      ],
      "metadata": {
        "id": "3uvsGhNG350v"
      },
      "execution_count": null,
      "outputs": []
    },
    {
      "cell_type": "code",
      "source": [
        "def result(board, action):\n",
        "    if board[action[0]][action[1]] is not None:\n",
        "        raise Exception(\"Invalid action.\")\n",
        "    new_board = [row[:] for row in board]\n",
        "    new_board[action[0]][action[1]] = player(board)\n",
        "    return new_board"
      ],
      "metadata": {
        "id": "5s-C0X9-4Xpo"
      },
      "execution_count": null,
      "outputs": []
    },
    {
      "cell_type": "code",
      "source": [
        "def winner(board):\n",
        "    lines = [\n",
        "        [board[i][j] for j in range(3)] for i in range(3)\n",
        "    ] + [\n",
        "        [board[j][i] for j in range(3)] for i in range(3)\n",
        "    ] + [\n",
        "        [board[i][i] for i in range(3)],\n",
        "        [board[i][2-i] for i in range(3)]\n",
        "    ]\n",
        "\n",
        "    for line in lines:\n",
        "        if line.count(line[0]) == 3 and line[0] is not None:\n",
        "            return line[0]\n",
        "    return None"
      ],
      "metadata": {
        "id": "nqzZWZTg40Mk"
      },
      "execution_count": null,
      "outputs": []
    },
    {
      "cell_type": "code",
      "source": [
        "def terminal(board):\n",
        "    if winner(board) is not None:\n",
        "        return True\n",
        "    return all(all(row) for row in board)"
      ],
      "metadata": {
        "id": "IcgZvlq75Fj4"
      },
      "execution_count": null,
      "outputs": []
    },
    {
      "cell_type": "code",
      "source": [
        "def utility(board):\n",
        "    if winner(board) == 'X':\n",
        "        return 1\n",
        "    elif winner(board) == 'O':\n",
        "        return -1\n",
        "    else:\n",
        "        return 0"
      ],
      "metadata": {
        "id": "8h9SLIhy5UWB"
      },
      "execution_count": null,
      "outputs": []
    },
    {
      "cell_type": "code",
      "source": [
        "def max_value(board, alpha, beta):\n",
        "    if terminal(board):\n",
        "        return utility(board), None\n",
        "    v = float('-inf')\n",
        "    best_move = None\n",
        "    for action in actions(board):\n",
        "        v2, _ = min_value(result(board, action), alpha, beta)\n",
        "        if v2 > v:\n",
        "            v, best_move = v2, action\n",
        "            alpha = max(alpha, v)\n",
        "        if v >= beta:\n",
        "            break\n",
        "    return v, best_move"
      ],
      "metadata": {
        "id": "ehNyKqEiRHm3"
      },
      "execution_count": null,
      "outputs": []
    },
    {
      "cell_type": "code",
      "source": [
        "def min_value(board, alpha, beta):\n",
        "    if terminal(board):\n",
        "        return utility(board), None\n",
        "    v = float('inf')\n",
        "    best_move = None\n",
        "    for action in actions(board):\n",
        "        v2, _ = max_value(result(board, action), alpha, beta)\n",
        "        if v2 < v:\n",
        "            v, best_move = v2, action\n",
        "            beta = min(beta, v)\n",
        "        if v <= alpha:\n",
        "            break\n",
        "    return v, best_move"
      ],
      "metadata": {
        "id": "gW3XyC2-RKct"
      },
      "execution_count": null,
      "outputs": []
    },
    {
      "cell_type": "code",
      "source": [
        "def alpha_beta_pruning(board):\n",
        "    if player(board) == \"X\":\n",
        "        _, move = max_value(board, float('-inf'), float('inf'))\n",
        "    else:\n",
        "        _, move = min_value(board, float('-inf'), float('inf'))\n",
        "    return move"
      ],
      "metadata": {
        "id": "kqw4pro5RMgl"
      },
      "execution_count": null,
      "outputs": []
    },
    {
      "cell_type": "code",
      "source": [
        "if __name__ == \"__main__\" :\n",
        "    board = initial_state()\n",
        "    while not terminal(board):\n",
        "        user_move = None\n",
        "        while user_move not in actions(board):\n",
        "            try:\n",
        "                user_move = eval(input(\"Enter your move (row, column): \"))\n",
        "            except (SyntaxError, NameError):\n",
        "                print(\"Invalid input. Use the format: (row, column)\")\n",
        "\n",
        "        board = result(board, user_move)\n",
        "        print_board(board)\n",
        "        if terminal(board):\n",
        "            break\n",
        "        computer_move = alpha_beta_pruning(board)\n",
        "        print(f\"Computer's move: {computer_move}\")\n",
        "        board = result(board, computer_move)\n",
        "        print_board(board)\n",
        "    if winner(board):\n",
        "        print(f\"The winner is {winner(board)}!\")\n",
        "    else:\n",
        "        print(\"The game is a draw.\")"
      ],
      "metadata": {
        "id": "fuXpYeU95kA4",
        "colab": {
          "base_uri": "https://localhost:8080/"
        },
        "outputId": "d3f8f37b-9c8a-4618-9367-1be34b38033a"
      },
      "execution_count": null,
      "outputs": [
        {
          "output_type": "stream",
          "name": "stdout",
          "text": [
            "Enter your move (row, column): 0,0\n",
            "['X', None, None]\n",
            "[None, None, None]\n",
            "[None, None, None]\n",
            "\n",
            "Computer's move: (1, 1)\n",
            "['X', None, None]\n",
            "[None, 'O', None]\n",
            "[None, None, None]\n",
            "\n"
          ]
        }
      ]
    }
  ]
}