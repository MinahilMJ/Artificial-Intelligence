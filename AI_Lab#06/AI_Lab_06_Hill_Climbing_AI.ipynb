{
  "nbformat": 4,
  "nbformat_minor": 0,
  "metadata": {
    "colab": {
      "provenance": []
    },
    "kernelspec": {
      "name": "python3",
      "display_name": "Python 3"
    },
    "language_info": {
      "name": "python"
    }
  },
  "cells": [
    {
      "cell_type": "code",
      "execution_count": null,
      "metadata": {
        "id": "stEAdddFWzt1"
      },
      "outputs": [],
      "source": [
        "from random import randint\n",
        "\n",
        "N = 8\n",
        "\n",
        "def configureRandomly(board, state):\n",
        "    for i in range(N):\n",
        "        state[i] = randint(0, N-1)\n",
        "        board[state[i]][i] = 1\n",
        "\n",
        "def printBoard(board):\n",
        "    for i in range(N):\n",
        "        print(*board[i])\n",
        "\n",
        "def printState(state):\n",
        "    print(*state)\n",
        "\n",
        "def compareStates(state1, state2):\n",
        "    for i in range(N):\n",
        "        if state1[i] != state2[i]:\n",
        "            return False\n",
        "    return True\n",
        "\n",
        "def fill(board, value):\n",
        "    for i in range(N):\n",
        "        for j in range(N):\n",
        "            board[i][j] = value"
      ]
    },
    {
      "cell_type": "code",
      "source": [
        "def calculateObjective(board, state):\n",
        "    attacking = 0\n",
        "\n",
        "    for i in range(N):\n",
        "        row = state[i]\n",
        "        col = i - 1\n",
        "        while col >= 0 and board[row][col] != 1:\n",
        "            col -= 1\n",
        "        if col >= 0 and board[row][col] == 1:\n",
        "            attacking += 1\n",
        "\n",
        "        col = i + 1\n",
        "        while col < N and board[row][col] != 1:\n",
        "            col += 1\n",
        "        if col < N and board[row][col] == 1:\n",
        "            attacking += 1\n",
        "\n",
        "        row = state[i] - 1\n",
        "        col = i - 1\n",
        "        while col >= 0 and row >= 0 and board[row][col] != 1:\n",
        "            col -= 1\n",
        "            row -= 1\n",
        "        if col >= 0 and row >= 0 and board[row][col] == 1:\n",
        "            attacking += 1\n",
        "\n",
        "        row = state[i] + 1\n",
        "        col = i + 1\n",
        "        while col < N and row < N and board[row][col] != 1:\n",
        "            col += 1\n",
        "            row += 1\n",
        "        if col < N and row < N and board[row][col] == 1:\n",
        "            attacking += 1\n",
        "\n",
        "        row = state[i] + 1\n",
        "        col = i - 1\n",
        "        while col >= 0 and row < N and board[row][col] != 1:\n",
        "            col -= 1\n",
        "            row += 1\n",
        "        if col >= 0 and row < N and board[row][col] == 1:\n",
        "            attacking += 1\n",
        "\n",
        "        row = state[i] - 1\n",
        "        col = i + 1\n",
        "        while col < N and row >= 0 and board[row][col] != 1:\n",
        "            col += 1\n",
        "            row -= 1\n",
        "        if col < N and row >= 0 and board[row][col] == 1:\n",
        "            attacking += 1\n",
        "\n",
        "    return int(attacking / 2)"
      ],
      "metadata": {
        "id": "Y_HRwAdgY0vz"
      },
      "execution_count": null,
      "outputs": []
    },
    {
      "cell_type": "code",
      "source": [
        "'''\n",
        "# A utility function that generates a board configuration given the state.\n",
        "def generateBoard( board, state):\n",
        "\tfill(board, 0);\n",
        "\tfor i in range(N):\n",
        "\t\tboard[state[i]][i] = 1;\n",
        "\n",
        "# A utility function that copies contents of state2 to state1.\n",
        "def copyState( state1, state2):\n",
        "\n",
        "\tfor i in range(N):\n",
        "\t\tstate1[i] = state2[i];\n",
        "'''\n",
        "\n",
        "def generateBoard(board, state):\n",
        "    fill(board, 0)\n",
        "    for i in range(N):\n",
        "        board[state[i]][i] = 1\n",
        "\n",
        "def copyState(state1, state2):\n",
        "    for i in range(N):\n",
        "        state1[i] = state2[i]"
      ],
      "metadata": {
        "id": "ZbdnqKida1Uu"
      },
      "execution_count": null,
      "outputs": []
    },
    {
      "cell_type": "code",
      "source": [
        "#This function gets the neighbour of the current state having the least objective value amongst all neighbours as well as the current state.\n",
        "#def getNeighbour(board, state):\n",
        "# Declaring and initializing the optimal board and state with the current board and the state as the starting point.\n",
        "def getNeighbour(board, state):\n",
        "    neighbors = []\n",
        "    for i in range(N):\n",
        "        for j in range(N):\n",
        "            if state[i] != j:\n",
        "                neighbor = state.copy()\n",
        "                neighbor[i] = j\n",
        "                neighbors.append(neighbor)\n",
        "\n",
        "    minNeighbor = state\n",
        "    minObjective = calculateObjective(board, state)\n",
        "\n",
        "    for neighbor in neighbors:\n",
        "        neighborObjective = calculateObjective(board, neighbor)\n",
        "        if neighborObjective < minObjective:\n",
        "            minObjective = neighborObjective\n",
        "            minNeighbor = neighbor\n",
        "\n",
        "    return minNeighbor, minObjective"
      ],
      "metadata": {
        "id": "KyPW6_KlavpJ"
      },
      "execution_count": null,
      "outputs": []
    },
    {
      "cell_type": "code",
      "source": [
        "#def hillClimbing(board, state):\n",
        "#Write your code here.\n",
        "def hillClimbing(board, state):\n",
        "    currentObjective = calculateObjective(board, state)\n",
        "\n",
        "    while True:\n",
        "        neighbor, neighborObjective = getNeighbour(board, state)\n",
        "\n",
        "        if neighborObjective >= currentObjective:\n",
        "            break\n",
        "\n",
        "        copyState(state, neighbor)\n",
        "        currentObjective = neighborObjective\n",
        "\n",
        "    print(\"Final State:\")\n",
        "    printState(state)\n",
        "    print(\"Objective Value:\", currentObjective)"
      ],
      "metadata": {
        "id": "a-EkMJVBZN0B"
      },
      "execution_count": null,
      "outputs": []
    },
    {
      "cell_type": "code",
      "source": [
        "'''\n",
        "# Driver code\n",
        "state = [0] * N\n",
        "board = [[0 for _ in range(N)] for _ in range(N)]\n",
        "\n",
        "# Getting a starting point by\n",
        "# randomly configuring the board\n",
        "configureRandomly(board, state);\n",
        "\n",
        "# Do hill climbing on the board obtained\n",
        "hillClimbing(board, state);'''\n",
        "\n",
        "# Driver code\n",
        "state = [0] * N\n",
        "board = [[0 for _ in range(N)] for _ in range(N)]\n",
        "\n",
        "configureRandomly(board, state)\n",
        "hillClimbing(board, state)"
      ],
      "metadata": {
        "id": "y70r8DqtZH9u",
        "colab": {
          "base_uri": "https://localhost:8080/"
        },
        "outputId": "fe6a5edd-e988-4a25-a08c-485e69d684b8"
      },
      "execution_count": null,
      "outputs": [
        {
          "output_type": "stream",
          "name": "stdout",
          "text": [
            "Final State:\n",
            "0 7 2 0 6 1 1 5\n",
            "Objective Value: 2\n"
          ]
        }
      ]
    }
  ]
}