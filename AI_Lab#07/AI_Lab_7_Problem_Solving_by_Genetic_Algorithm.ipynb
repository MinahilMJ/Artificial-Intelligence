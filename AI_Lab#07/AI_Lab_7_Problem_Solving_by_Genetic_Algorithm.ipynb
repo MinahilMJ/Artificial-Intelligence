{
  "nbformat": 4,
  "nbformat_minor": 0,
  "metadata": {
    "colab": {
      "provenance": []
    },
    "kernelspec": {
      "name": "python3",
      "display_name": "Python 3"
    },
    "language_info": {
      "name": "python"
    }
  },
  "cells": [
    {
      "cell_type": "markdown",
      "metadata": {
        "id": "U6k7lYnZ3clC"
      },
      "source": [
        "Genetic Algorithm"
      ]
    },
    {
      "cell_type": "code",
      "metadata": {
        "id": "tGVaJS0W3ayk"
      },
      "source": [
        "import random"
      ],
      "execution_count": null,
      "outputs": []
    },
    {
      "cell_type": "markdown",
      "metadata": {
        "id": "QxWWUHUx3sM4"
      },
      "source": [
        "Let say we have fucntion that evaluates the expression to 0 if the answer of expression \" 6 * x ** 3 + 9 * y ** 2 + 90 * z \" is 25.\n",
        "So That's mean we need the most suitable values of x, y and z so that we could achive our target value whichis 25 in this case."
      ]
    },
    {
      "cell_type": "code",
      "metadata": {
        "id": "a7BY0jfW3k0_"
      },
      "source": [
        "def evaluateExpression(x, y, z):\n",
        "\treturn 6 * x ** 3 + 9 * y ** 2 + 90 * z - 25"
      ],
      "execution_count": null,
      "outputs": []
    },
    {
      "cell_type": "markdown",
      "metadata": {
        "id": "wFSAohyg4s_Y"
      },
      "source": [
        "Let's write the solution based on Genetic Algorithm technique to find the most suitable values of x, y and z."
      ]
    },
    {
      "cell_type": "markdown",
      "metadata": {
        "id": "Kqovna8D5HOH"
      },
      "source": [
        "*Step1* : Population of Solutions:\n",
        "Population is generated entirely from random numbers let say upto 1000 indivuduals."
      ]
    },
    {
      "cell_type": "code",
      "metadata": {
        "id": "ujH6YRGj45L1"
      },
      "source": [
        "# generate solutions\n",
        "solutions = []\n",
        "for counter in range(1000):\n",
        "\tsolutions.append((random.uniform(0, 1000), random.uniform(0, 1000), random.uniform(0, 1000)))\n"
      ],
      "execution_count": null,
      "outputs": []
    },
    {
      "cell_type": "markdown",
      "metadata": {
        "id": "WaGcxE1g5XDe"
      },
      "source": [
        "Step2: Fitness fucntion:\n",
        "So the most fittest solution will be the one which evalutes the expression to \"0\". Otherwise the best solution will be closest to zero.\n",
        "So the fittness in this case can be seen if the solution is closest to zero. Hnece we can return highest fitness value to those solution which are closest to zero."
      ]
    },
    {
      "cell_type": "code",
      "metadata": {
        "id": "13HwHogg5eYF"
      },
      "source": [
        "def fitness(x, y, z):\n",
        "\tans = evaluateExpression(x, y, z)\n",
        "\n",
        "\tif ans == 0:\n",
        "\t\treturn 99999\n",
        "\telse:\n",
        "\t\treturn abs(1 / ans)\n"
      ],
      "execution_count": null,
      "outputs": []
    },
    {
      "cell_type": "markdown",
      "metadata": {
        "id": "301_DByz6mIG"
      },
      "source": [
        "Step3: Mating, Crossover or Generating the Genrations:\n",
        "During each generations further sub steps are performed like :\n",
        "Step 3.1: Selection of top ranked solutions\n",
        "Step 3.2: Mutation or slight changes or variation in values of solution.\n",
        "P.S(Here for the sake of anology if solution can be considered as chromosome then vatiable values can be considered as genes)\n"
      ]
    },
    {
      "cell_type": "code",
      "metadata": {
        "colab": {
          "base_uri": "https://localhost:8080/"
        },
        "id": "naXvB6VE7_-7",
        "outputId": "54ea8c8e-18ba-4c4a-b384-a9f40349aa7c"
      },
      "source": [
        "for generation_count in range(10000):\n",
        "    rankedSolutions = []\n",
        "  # fitness step\n",
        "    for solution in solutions:\n",
        "        rankedSolutions.append((fitness(solution[0], solution[1], solution[2]), solution))\n",
        "    rankedSolutions.sort()\n",
        "    rankedSolutions.reverse()\n",
        "    print(f\"=== Generation {generation_count} best solutions ====\")\n",
        "    print(rankedSolutions[0])\n",
        "\n",
        "    if rankedSolutions[0][0] > 999:\n",
        "        break\n",
        "\n",
        "    bestSolution = rankedSolutions[:100]\n",
        "    # print(bestSolution)\n",
        "\n",
        "  # selection step\n",
        "    variables = []\n",
        "    for solution in bestSolution:\n",
        "        variables.append(solution[1][0])  # variable x\n",
        "        variables.append(solution[1][1])  # variable y\n",
        "        variables.append(solution[1][2])  # variable z\n",
        "\n",
        "    newGeneration = []\n",
        "  # mutation step\n",
        "    for counter in range(1000):\n",
        "        x = random.choice(variables) * random.uniform(0.99, 1.01)\n",
        "        y = random.choice(variables) * random.uniform(0.99, 1.01)\n",
        "        z = random.choice(variables) * random.uniform(0.99, 1.01)\n",
        "\n",
        "        newGeneration.append((x, y, z))\n",
        "\n",
        "    solutions = newGeneration"
      ],
      "execution_count": null,
      "outputs": [
        {
          "output_type": "stream",
          "name": "stdout",
          "text": [
            "=== Generation 0 best solutions ====\n",
            "(8.681712606307667e-06, (24.377252719035013, 16.997177401185446, 285.47055573562307))\n",
            "=== Generation 1 best solutions ====\n",
            "(0.00017900159220056878, (8.488685164572425, 10.525134166301918, 10.494242310104383))\n",
            "=== Generation 2 best solutions ====\n",
            "(0.0019283514553429949, (0.1165438966812268, 3.7663142784613597, 4.621134007323012))\n",
            "=== Generation 3 best solutions ====\n",
            "(0.005702154674802903, (3.1628856595310793, 0.11481988632201406, 0.11563922737847072))\n",
            "=== Generation 4 best solutions ====\n",
            "(0.06974833923917666, (0.11624502443894434, 0.11746934388406897, 0.11699027550338142))\n",
            "=== Generation 5 best solutions ====\n",
            "(0.07077165867805327, (0.11620234131398895, 0.11711671368452611, 0.11930209541668295))\n",
            "=== Generation 6 best solutions ====\n",
            "(0.07132068606779608, (0.118103364327482, 0.11580995792549538, 0.12053589827300741))\n",
            "=== Generation 7 best solutions ====\n",
            "(0.07164452901779556, (0.11509128436410639, 0.11887122381985743, 0.12117644212528082))\n",
            "=== Generation 8 best solutions ====\n",
            "(0.07208370230631682, (0.11921575153716922, 0.1188893120838362, 0.1221095619490373))\n",
            "=== Generation 9 best solutions ====\n",
            "(0.0726151524679874, (0.11843697115083454, 0.11673694984244946, 0.12329059752565623))\n",
            "=== Generation 10 best solutions ====\n",
            "(0.07300273545787116, (0.1209424402285198, 0.12163379504837242, 0.12397906593656062))\n",
            "=== Generation 11 best solutions ====\n",
            "(0.07340911360836128, (0.12254041266093281, 0.12259155830652405, 0.12479349406366094))\n",
            "=== Generation 12 best solutions ====\n",
            "(0.07397226404433713, (0.12119124208576061, 0.12400726171716463, 0.1259148836735153))\n",
            "=== Generation 13 best solutions ====\n",
            "(0.0743828967880233, (0.12598246665239834, 0.12386764312703533, 0.1267329253433936))\n",
            "=== Generation 14 best solutions ====\n",
            "(0.07488285021006073, (0.12350065837153629, 0.12536076288166015, 0.127700749660904))\n",
            "=== Generation 15 best solutions ====\n",
            "(0.0754501027621338, (0.12245938821445863, 0.1207676823337892, 0.12893250506131684))\n",
            "=== Generation 16 best solutions ====\n",
            "(0.0761745202357675, (0.12905972997539822, 0.12566384517200876, 0.130191445668949))\n",
            "=== Generation 17 best solutions ====\n",
            "(0.07652684395321217, (0.1279102041346248, 0.1278573789726536, 0.1308111764332044))\n",
            "=== Generation 18 best solutions ====\n",
            "(0.07719297366394605, (0.1302767612357363, 0.12619921597557274, 0.13209833911998814))\n",
            "=== Generation 19 best solutions ====\n",
            "(0.07774271270485453, (0.12987228392555708, 0.13094456493767656, 0.13299551731635179))\n",
            "=== Generation 20 best solutions ====\n",
            "(0.07823368007467514, (0.1279813781728877, 0.13166500112883037, 0.1338798103770173))\n",
            "=== Generation 21 best solutions ====\n",
            "(0.07889010008014297, (0.13412958763084787, 0.13457319069228202, 0.1349630026105787))\n",
            "=== Generation 22 best solutions ====\n",
            "(0.07951401108170007, (0.12943327820861458, 0.13116993480105693, 0.13617488658819135))\n",
            "=== Generation 23 best solutions ====\n",
            "(0.08029243180308594, (0.13220213981904563, 0.13517416329076187, 0.13741349178851714))\n",
            "=== Generation 24 best solutions ====\n",
            "(0.08101154514928234, (0.13315011170939262, 0.13577299340080903, 0.13862231084961169))\n",
            "=== Generation 25 best solutions ====\n",
            "(0.08155528909435286, (0.13546773969786405, 0.1375022865637993, 0.13948112692640877))\n",
            "=== Generation 26 best solutions ====\n",
            "(0.08224548034474684, (0.13855907476296497, 0.1379756602276462, 0.14059978625730252))\n",
            "=== Generation 27 best solutions ====\n",
            "(0.08310186512372444, (0.14115564914565296, 0.13945752692659602, 0.14194072259796725))\n",
            "=== Generation 28 best solutions ====\n",
            "(0.08369261829631643, (0.14007613021894266, 0.13947306128947842, 0.14288832717116748))\n",
            "=== Generation 29 best solutions ====\n",
            "(0.0843816717706753, (0.13855156291513607, 0.13864654927061912, 0.14400134647708066))\n",
            "=== Generation 30 best solutions ====\n",
            "(0.08532584232854695, (0.13871235795984208, 0.14076301064505858, 0.14539865849933967))\n",
            "=== Generation 31 best solutions ====\n",
            "(0.08626547315605579, (0.14375051277104997, 0.14547452238988443, 0.1466620915680603))\n",
            "=== Generation 32 best solutions ====\n",
            "(0.08714535213888952, (0.13999975637723133, 0.14650729547762537, 0.1479475033939325))\n",
            "=== Generation 33 best solutions ====\n",
            "(0.08776911520966942, (0.14363496735621029, 0.14683082789056567, 0.14882952120430376))\n",
            "=== Generation 34 best solutions ====\n",
            "(0.08867757405456066, (0.14808943501838517, 0.14764143405197, 0.15008359736370527))\n",
            "=== Generation 35 best solutions ====\n",
            "(0.0894684338522335, (0.14647610026645191, 0.14994555371171844, 0.1511296047185964))\n",
            "=== Generation 36 best solutions ====\n",
            "(0.09038196567981303, (0.15217130047731975, 0.14918760561176317, 0.15238212461019912))\n",
            "=== Generation 37 best solutions ====\n",
            "(0.09149754407862609, (0.15149518514066154, 0.15199717462182857, 0.1537995002987943))\n",
            "=== Generation 38 best solutions ====\n",
            "(0.0924964266815753, (0.15226221456412475, 0.14952241754621748, 0.1551819875810859))\n",
            "=== Generation 39 best solutions ====\n",
            "(0.09360131942422163, (0.15224157254213877, 0.1533107056419083, 0.1564853432625467))\n",
            "=== Generation 40 best solutions ====\n",
            "(0.09428791487286747, (0.15480885016317303, 0.15549239208891968, 0.1572702809314088))\n",
            "=== Generation 41 best solutions ====\n",
            "(0.09551922793937451, (0.15276437179319133, 0.15572680857338966, 0.15879173084211054))\n",
            "=== Generation 42 best solutions ====\n",
            "(0.09651130774727493, (0.15444554427642326, 0.15580215102567008, 0.15997718577629413))\n",
            "=== Generation 43 best solutions ====\n",
            "(0.09775833200307128, (0.15821383556162322, 0.15494830090378817, 0.16145388914703876))\n",
            "=== Generation 44 best solutions ====\n",
            "(0.09842493660878357, (0.1603063785095024, 0.15819025352916005, 0.16211153644221188))\n",
            "=== Generation 45 best solutions ====\n",
            "(0.09959972991069742, (0.16212235325839822, 0.16042220569932258, 0.16336252848836672))\n",
            "=== Generation 46 best solutions ====\n",
            "(0.10065691287878005, (0.16116194796191521, 0.16372557987433142, 0.16443214063020375))\n",
            "=== Generation 47 best solutions ====\n",
            "(0.10217815109305031, (0.16467126954588177, 0.16323213463763503, 0.16607308176426525))\n",
            "=== Generation 48 best solutions ====\n",
            "(0.10368769631372146, (0.16411184220905362, 0.16151683653562673, 0.16771494602065976))\n",
            "=== Generation 49 best solutions ====\n",
            "(0.10525453245753488, (0.16393214873985099, 0.16641686434021202, 0.16915041674416734))\n",
            "=== Generation 50 best solutions ====\n",
            "(0.10668544883618263, (0.16697269484623561, 0.16077722710472697, 0.17073417291329693))\n",
            "=== Generation 51 best solutions ====\n",
            "(0.10850872295436113, (0.16920445607541618, 0.16812893089829142, 0.17222976584815278))\n",
            "=== Generation 52 best solutions ====\n",
            "(0.11030323834539511, (0.1722730358425845, 0.16685851481071215, 0.17392034270896042))\n",
            "=== Generation 53 best solutions ====\n",
            "(0.11183563767326972, (0.1709903968696954, 0.1680684395545446, 0.17526763594695835))\n",
            "=== Generation 54 best solutions ====\n",
            "(0.11280362092102343, (0.16843357274719975, 0.170641220757478, 0.1760477763980681))\n",
            "=== Generation 55 best solutions ====\n",
            "(0.11484678180711899, (0.1673577892141799, 0.1748754969460468, 0.17765987938073508))\n",
            "=== Generation 56 best solutions ====\n",
            "(0.11699463371150924, (0.176415754524391, 0.1764538890817139, 0.17932702922412777))\n",
            "=== Generation 57 best solutions ====\n",
            "(0.11848651119613567, (0.17716159557848302, 0.176677884658609, 0.18051024950330247))\n",
            "=== Generation 58 best solutions ====\n",
            "(0.12045422262838487, (0.18090289301863258, 0.17318621527953862, 0.182140317316571))\n",
            "=== Generation 59 best solutions ====\n",
            "(0.12257924211844813, (0.17332187560937962, 0.18099649518808492, 0.1835103808901224))\n",
            "=== Generation 60 best solutions ====\n",
            "(0.12457330414665399, (0.17476883035746743, 0.1772070181382634, 0.1850883110565043))\n",
            "=== Generation 61 best solutions ====\n",
            "(0.12677387184282268, (0.18413769733544647, 0.17939194168374334, 0.18649827834709737))\n",
            "=== Generation 62 best solutions ====\n",
            "(0.12814043756893548, (0.18581088639034254, 0.18321066235157155, 0.18728306026886757))\n",
            "=== Generation 63 best solutions ====\n",
            "(0.13089077660596082, (0.18495964111427243, 0.18487901590400577, 0.18904950141020654))\n",
            "=== Generation 64 best solutions ====\n",
            "(0.13386753684983632, (0.18735536103362804, 0.18675457957598507, 0.190850825076712))\n",
            "=== Generation 65 best solutions ====\n",
            "(0.13614849389539624, (0.18980261344417684, 0.18757561442290221, 0.1921932347609209))\n",
            "=== Generation 66 best solutions ====\n",
            "(0.13886578576551178, (0.17666738023339928, 0.19198020818152428, 0.19371122614629196))\n",
            "=== Generation 67 best solutions ====\n",
            "(0.14158941971203265, (0.18798814540990505, 0.1879383989690826, 0.19532863689497398))\n",
            "=== Generation 68 best solutions ====\n",
            "(0.14398920979605992, (0.19274555860859396, 0.19368199066793979, 0.19638285295141536))\n",
            "=== Generation 69 best solutions ====\n",
            "(0.14756440062510762, (0.19567327633388354, 0.196548257198509, 0.19811850183663546))\n",
            "=== Generation 70 best solutions ====\n",
            "(0.15114319696812445, (0.1993034959157533, 0.198683787363721, 0.199788669991279))\n",
            "=== Generation 71 best solutions ====\n",
            "(0.15593324907922182, (0.20020596761046439, 0.19839863172554714, 0.20205103249513467))\n",
            "=== Generation 72 best solutions ====\n",
            "(0.15993508573976212, (0.19857596380052217, 0.19963148255395652, 0.20379785245669438))\n",
            "=== Generation 73 best solutions ====\n",
            "(0.16523069516201283, (0.2020449757447503, 0.20268087338828483, 0.20587391603619967))\n",
            "=== Generation 74 best solutions ====\n",
            "(0.16841733749702176, (0.19319165761026175, 0.1998710949573562, 0.20732855511201248))\n",
            "=== Generation 75 best solutions ====\n",
            "(0.17182838189627947, (0.20341339717706206, 0.20410771794593988, 0.20838666887942298))\n",
            "=== Generation 76 best solutions ====\n",
            "(0.1767582370120809, (0.2058476009374803, 0.20231789221814828, 0.21024252984151715))\n",
            "=== Generation 77 best solutions ====\n",
            "(0.18243237331062123, (0.20527554764305522, 0.2095083947049472, 0.21190637074145222))\n",
            "=== Generation 78 best solutions ====\n",
            "(0.18678891815645612, (0.1956347204646854, 0.21085030257671442, 0.21334797320770457))\n",
            "=== Generation 79 best solutions ====\n",
            "(0.19493790058205956, (0.21447703460357914, 0.2110671877440463, 0.2156668981875555))\n",
            "=== Generation 80 best solutions ====\n",
            "(0.20127301070303927, (0.20334772920769906, 0.21123839747261106, 0.21755086775293375))\n",
            "=== Generation 81 best solutions ====\n",
            "(0.20803270658098177, (0.2140933997475733, 0.20335470269527176, 0.2195778471629))\n",
            "=== Generation 82 best solutions ====\n",
            "(0.21409735940852817, (0.21266007515490173, 0.21416485997922247, 0.22065248956453956))\n",
            "=== Generation 83 best solutions ====\n",
            "(0.22213308679620955, (0.2216244405102078, 0.21479836283052775, 0.22241817294770666))\n",
            "=== Generation 84 best solutions ====\n",
            "(0.23062673057230362, (0.2175560334632376, 0.21863347837965721, 0.2241333490414428))\n",
            "=== Generation 85 best solutions ====\n",
            "(0.2391355430780624, (0.22157331903012964, 0.22244570156766386, 0.2256407092842322))\n",
            "=== Generation 86 best solutions ====\n",
            "(0.25530511807670053, (0.22615004470951602, 0.22043311288488898, 0.2286267130556481))\n",
            "=== Generation 87 best solutions ====\n",
            "(0.26534504376476, (0.22217178400575285, 0.21991101578778463, 0.23033639574801107))\n",
            "=== Generation 88 best solutions ====\n",
            "(0.27649158976464605, (0.22605724387657236, 0.22928175558250713, 0.23156456281930096))\n",
            "=== Generation 89 best solutions ====\n",
            "(0.2901088044884832, (0.22978446811097258, 0.23039001270325535, 0.23336116021874703))\n",
            "=== Generation 90 best solutions ====\n",
            "(0.3092117357647019, (0.2310286800477267, 0.2306173069048242, 0.23570361244086574))\n",
            "=== Generation 91 best solutions ====\n",
            "(0.3315460109314363, (0.23138414029595422, 0.23437879456523322, 0.23794554090398992))\n",
            "=== Generation 92 best solutions ====\n",
            "(0.35589907836064344, (0.23392153165824103, 0.23594596253056202, 0.240137556780245))\n",
            "=== Generation 93 best solutions ====\n",
            "(0.3590764666051532, (0.23475869354806053, 0.2386993781841393, 0.2402739300129228))\n",
            "=== Generation 94 best solutions ====\n",
            "(0.40010151237364705, (0.23937690377804624, 0.23811545888593125, 0.24342270995443652))\n",
            "=== Generation 95 best solutions ====\n",
            "(0.4152226045459778, (0.23525877819512944, 0.24107632790335878, 0.24433853710905154))\n",
            "=== Generation 96 best solutions ====\n",
            "(0.4567493932491373, (0.23938672041988596, 0.24397081346667435, 0.2465845555145847))\n",
            "=== Generation 97 best solutions ====\n",
            "(0.49148468725676003, (0.24378717860763408, 0.24611269553751186, 0.2481474738984651))\n",
            "=== Generation 98 best solutions ====\n",
            "(0.5303892073346109, (0.2427924751216489, 0.23778449763005327, 0.2502205093478329))\n",
            "=== Generation 99 best solutions ====\n",
            "(0.6280597203505984, (0.24758262139501797, 0.24911262059583586, 0.2528691575989436))\n",
            "=== Generation 100 best solutions ====\n",
            "(0.6967256844166421, (0.2513154354093298, 0.24904170621623495, 0.2545697920309229))\n",
            "=== Generation 101 best solutions ====\n",
            "(0.8337491007932057, (0.25265757916246173, 0.252858259605349, 0.2569821226675666))\n",
            "=== Generation 102 best solutions ====\n",
            "(0.9659014992760746, (0.2502654949960171, 0.2563193456485, 0.25865946981732485))\n",
            "=== Generation 103 best solutions ====\n",
            "(1.1324334229751634, (0.25599176759488196, 0.259639749747028, 0.2601064121999871))\n",
            "=== Generation 104 best solutions ====\n",
            "(1.5044871693243456, (0.2599478107870461, 0.2616507514758425, 0.2623753236903084))\n",
            "=== Generation 105 best solutions ====\n",
            "(2.105659719623632, (0.26149945170244054, 0.2589388820510885, 0.2646039364476203))\n",
            "=== Generation 106 best solutions ====\n",
            "(3.4660892097190144, (0.2578882344448945, 0.2537573771324951, 0.2669894214153889))\n",
            "=== Generation 107 best solutions ====\n",
            "(12.785926678049586, (0.2567396554303442, 0.2578581811650162, 0.26913147868779974))\n",
            "=== Generation 108 best solutions ====\n",
            "(1805.6757808510588, (0.2673260655837504, 0.26686237796990797, 0.26937647260617004))\n"
          ]
        }
      ]
    },
    {
      "cell_type": "markdown",
      "source": [
        "LAB TASK:"
      ],
      "metadata": {
        "id": "OxfdSusSN0P1"
      }
    },
    {
      "cell_type": "code",
      "source": [
        "import random\n",
        "def fitness(x,y,z):\n",
        "    cof=[1,1,1]\n",
        "    var=[x,y,z]\n",
        "    weights=[2,3,4]\n",
        "    threshold=15\n",
        "    if sum([cof[i] * weights[i] for i in range(3)])<threshold:\n",
        "      return sum([cof[i]*var[i] for i in range(3)])\n",
        "    else:\n",
        "      return 0"
      ],
      "metadata": {
        "id": "Kt8pqEWVNyLc"
      },
      "execution_count": null,
      "outputs": []
    },
    {
      "cell_type": "code",
      "source": [
        "population = [\n",
        "    [0, 1, 0, 1, 1, 0, 0, 1, 1, 1],\n",
        "    [1, 1, 1, 1, 0, 1, 1, 1, 0, 0],\n",
        "    [0, 1, 0, 0, 0, 0, 1, 1, 0, 1],\n",
        "    [0, 0, 1, 0, 1, 1, 0, 0, 0, 0],\n",
        "    [0, 0, 1, 1, 0, 0, 0, 0, 0, 1],\n",
        "    [0, 1, 0, 1, 1, 0, 1, 0, 0, 0],\n",
        "    [1, 1, 1, 0, 0, 0, 1, 0, 1, 0],\n",
        "    [0, 0, 0, 0, 1, 1, 1, 0, 0, 0]\n",
        "]"
      ],
      "metadata": {
        "id": "ETP-JROwNzoT"
      },
      "execution_count": null,
      "outputs": []
    },
    {
      "cell_type": "code",
      "source": [],
      "metadata": {
        "id": "f-P8WxITQhk8"
      },
      "execution_count": null,
      "outputs": []
    },
    {
      "cell_type": "code",
      "source": [
        "def two_point_crossover(parent1, parent2):\n",
        "    crossover_points = sorted(random.sample(range(1, len(parent1) - 1), 2))\n",
        "    child1 = parent1[:crossover_points[0]] + parent2[crossover_points[0]:crossover_points[1]] + parent1[crossover_points[1]:]\n",
        "    child2 = parent2[:crossover_points[0]] + parent1[crossover_points[0]:crossover_points[1]] + parent2[crossover_points[1]:]\n",
        "    return child1, child2"
      ],
      "metadata": {
        "id": "EzFnVxzbOT7X"
      },
      "execution_count": null,
      "outputs": []
    },
    {
      "cell_type": "code",
      "source": [
        "def generate_new_population(population):\n",
        "    new_generation = []\n",
        "    while len(new_generation) < len(population) * 0.6:\n",
        "        parents = random.sample(population, 2)\n",
        "        child1, child2 = two_point_crossover(parents[0], parents[1])\n",
        "        new_generation += [child1, child2]\n",
        "    new_generation = new_generation[:int(len(population) * 0.6)]\n",
        "    selected_from_initial = random.sample(population, int(len(population) * 0.5))\n",
        "    combined_population = new_generation + selected_from_initial\n",
        "    return combined_population"
      ],
      "metadata": {
        "id": "vDYWUcADOY7W"
      },
      "execution_count": null,
      "outputs": []
    },
    {
      "cell_type": "code",
      "source": [
        "for generation in range(10):\n",
        "    initial_population = generate_new_population(initial_population)\n",
        "    print(f\"Generation {generation + 1} Population: {len(initial_population)}\")"
      ],
      "metadata": {
        "colab": {
          "base_uri": "https://localhost:8080/"
        },
        "id": "1d-imsYTOjBw",
        "outputId": "a62ed3f5-a33a-426b-b69f-8eb7442a5d4a"
      },
      "execution_count": null,
      "outputs": [
        {
          "output_type": "stream",
          "name": "stdout",
          "text": [
            "Generation 1 Population: 5\n",
            "Generation 2 Population: 5\n",
            "Generation 3 Population: 5\n",
            "Generation 4 Population: 5\n",
            "Generation 5 Population: 5\n",
            "Generation 6 Population: 5\n",
            "Generation 7 Population: 5\n",
            "Generation 8 Population: 5\n",
            "Generation 9 Population: 5\n",
            "Generation 10 Population: 5\n"
          ]
        }
      ]
    }
  ]
}