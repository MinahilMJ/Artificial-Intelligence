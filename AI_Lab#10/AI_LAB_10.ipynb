{
  "metadata": {
    "kernelspec": {
      "language": "python",
      "display_name": "Python 3",
      "name": "python3"
    },
    "language_info": {
      "name": "python",
      "version": "3.10.13",
      "mimetype": "text/x-python",
      "codemirror_mode": {
        "name": "ipython",
        "version": 3
      },
      "pygments_lexer": "ipython3",
      "nbconvert_exporter": "python",
      "file_extension": ".py"
    },
    "kaggle": {
      "accelerator": "none",
      "dataSources": [
        {
          "sourceId": 2431805,
          "sourceType": "datasetVersion",
          "datasetId": 8782
        }
      ],
      "dockerImageVersionId": 30684,
      "isInternetEnabled": true,
      "language": "python",
      "sourceType": "notebook",
      "isGpuEnabled": false
    },
    "colab": {
      "provenance": []
    }
  },
  "nbformat_minor": 0,
  "nbformat": 4,
  "cells": [
    {
      "cell_type": "code",
      "source": [
        "'''\n",
        "# This Python 3 environment comes with many helpful analytics libraries installed\n",
        "# It is defined by the kaggle/python Docker image: https://github.com/kaggle/docker-python\n",
        "# For example, here's several helpful packages to load\n",
        "\n",
        "import numpy as np # linear algebra\n",
        "import pandas as pd # data processing, CSV file I/O (e.g. pd.read_csv)\n",
        "\n",
        "# Input data files are available in the read-only \"../input/\" directory\n",
        "# For example, running this (by clicking run or pressing Shift+Enter) will list all files under the input directory\n",
        "\n",
        "import os\n",
        "for dirname, _, filenames in os.walk('/kaggle/input'):\n",
        "    for filename in filenames:\n",
        "        print(os.path.join(dirname, filename))\n",
        "\n",
        "# You can write up to 20GB to the current directory (/kaggle/working/) that gets preserved as output when you create a version using \"Save & Run All\"\n",
        "# You can also write temporary files to /kaggle/temp/, but they won't be saved outside of the current session'''"
      ],
      "metadata": {
        "_uuid": "8f2839f25d086af736a60e9eeb907d3b93b6e0e5",
        "_cell_guid": "b1076dfc-b9ad-4769-8c92-a6c4dae69d19",
        "execution": {
          "iopub.status.busy": "2024-04-16T18:54:19.469659Z",
          "iopub.execute_input": "2024-04-16T18:54:19.470074Z",
          "iopub.status.idle": "2024-04-16T18:54:19.478425Z",
          "shell.execute_reply.started": "2024-04-16T18:54:19.470040Z",
          "shell.execute_reply": "2024-04-16T18:54:19.477071Z"
        },
        "trusted": true,
        "id": "b-F6d6jE_tVV",
        "outputId": "942c7ea4-39d3-45c3-f225-2fa01d2c55f0"
      },
      "execution_count": null,
      "outputs": [
        {
          "execution_count": 9,
          "output_type": "execute_result",
          "data": {
            "text/plain": "'\\n# This Python 3 environment comes with many helpful analytics libraries installed\\n# It is defined by the kaggle/python Docker image: https://github.com/kaggle/docker-python\\n# For example, here\\'s several helpful packages to load\\n\\nimport numpy as np # linear algebra\\nimport pandas as pd # data processing, CSV file I/O (e.g. pd.read_csv)\\n\\n# Input data files are available in the read-only \"../input/\" directory\\n# For example, running this (by clicking run or pressing Shift+Enter) will list all files under the input directory\\n\\nimport os\\nfor dirname, _, filenames in os.walk(\\'/kaggle/input\\'):\\n    for filename in filenames:\\n        print(os.path.join(dirname, filename))\\n\\n# You can write up to 20GB to the current directory (/kaggle/working/) that gets preserved as output when you create a version using \"Save & Run All\" \\n# You can also write temporary files to /kaggle/temp/, but they won\\'t be saved outside of the current session'"
          },
          "metadata": {}
        }
      ]
    },
    {
      "cell_type": "code",
      "source": [
        "import numpy as np\n",
        "import os\n",
        "from PIL import Image\n",
        "from sklearn.model_selection import train_test_split\n",
        "from sklearn.metrics import classification_report, accuracy_score\n",
        "from sklearn.preprocessing import OneHotEncoder\n",
        "\n",
        "data_path = '/kaggle/input/flowers-recognition/flowers'"
      ],
      "metadata": {
        "execution": {
          "iopub.status.busy": "2024-04-16T18:54:19.485165Z",
          "iopub.execute_input": "2024-04-16T18:54:19.485793Z",
          "iopub.status.idle": "2024-04-16T18:54:19.492216Z",
          "shell.execute_reply.started": "2024-04-16T18:54:19.485757Z",
          "shell.execute_reply": "2024-04-16T18:54:19.491389Z"
        },
        "trusted": true,
        "id": "nZoeqNye_tVn"
      },
      "execution_count": null,
      "outputs": []
    },
    {
      "cell_type": "code",
      "source": [
        "def load_images(data_path, image_size=(32, 32)):\n",
        "    images_data = []\n",
        "    labels_data = []\n",
        "    label_dict = {'daisy': 0, 'dandelion': 1, 'rose': 2, 'sunflower': 3, 'tulip': 4}\n",
        "    for folder_name in os.listdir(data_path):\n",
        "        if folder_name in label_dict:\n",
        "            folder_path = os.path.join(data_path, folder_name)\n",
        "            for file_name in os.listdir(folder_path):\n",
        "                image_path = os.path.join(folder_path, file_name)\n",
        "                with Image.open(image_path) as image_file:\n",
        "                    image_file = image_file.resize(image_size).convert('RGB')\n",
        "                    images_data.append(np.asarray(image_file).flatten() / 255.0)\n",
        "                    labels_data.append(label_dict[folder_name])\n",
        "    return np.array(images_data), np.array(labels_data).reshape(-1, 1)"
      ],
      "metadata": {
        "execution": {
          "iopub.status.busy": "2024-04-16T18:54:19.493873Z",
          "iopub.execute_input": "2024-04-16T18:54:19.494450Z",
          "iopub.status.idle": "2024-04-16T18:54:19.508355Z",
          "shell.execute_reply.started": "2024-04-16T18:54:19.494413Z",
          "shell.execute_reply": "2024-04-16T18:54:19.507114Z"
        },
        "trusted": true,
        "id": "tKhU89CR_tVr"
      },
      "execution_count": null,
      "outputs": []
    },
    {
      "cell_type": "code",
      "source": [
        "images_data, labels_data = load_images(data_path)\n",
        "X_train, X_test, y_train, y_test = train_test_split(images_data, labels_data, test_size=0.2, random_state=42)"
      ],
      "metadata": {
        "execution": {
          "iopub.status.busy": "2024-04-16T18:54:19.510115Z",
          "iopub.execute_input": "2024-04-16T18:54:19.510536Z",
          "iopub.status.idle": "2024-04-16T18:54:32.665842Z",
          "shell.execute_reply.started": "2024-04-16T18:54:19.510502Z",
          "shell.execute_reply": "2024-04-16T18:54:32.664593Z"
        },
        "trusted": true,
        "id": "Gv56rz1i_tVv"
      },
      "execution_count": null,
      "outputs": []
    },
    {
      "cell_type": "code",
      "source": [
        "encoder = OneHotEncoder(sparse=False)\n",
        "y_train = encoder.fit_transform(y_train)\n",
        "y_test = encoder.transform(y_test)"
      ],
      "metadata": {
        "execution": {
          "iopub.status.busy": "2024-04-16T18:54:32.667129Z",
          "iopub.execute_input": "2024-04-16T18:54:32.667490Z",
          "iopub.status.idle": "2024-04-16T18:54:32.687198Z",
          "shell.execute_reply.started": "2024-04-16T18:54:32.667462Z",
          "shell.execute_reply": "2024-04-16T18:54:32.685956Z"
        },
        "trusted": true,
        "id": "RdCur5Qg_tVx",
        "outputId": "7961c837-4df3-4768-f01f-1b3d75aa3a43"
      },
      "execution_count": null,
      "outputs": [
        {
          "name": "stderr",
          "text": "/opt/conda/lib/python3.10/site-packages/sklearn/preprocessing/_encoders.py:868: FutureWarning: `sparse` was renamed to `sparse_output` in version 1.2 and will be removed in 1.4. `sparse_output` is ignored unless you leave `sparse` to its default value.\n  warnings.warn(\n",
          "output_type": "stream"
        }
      ]
    },
    {
      "cell_type": "code",
      "source": [
        "input_size = 32 * 32 * 3\n",
        "hidden_units = [128, 64]\n",
        "output_size = 5\n",
        "learning_rate = 0.01\n",
        "epochs = 10"
      ],
      "metadata": {
        "execution": {
          "iopub.status.busy": "2024-04-16T18:54:32.689856Z",
          "iopub.execute_input": "2024-04-16T18:54:32.690197Z",
          "iopub.status.idle": "2024-04-16T18:54:32.696209Z",
          "shell.execute_reply.started": "2024-04-16T18:54:32.690168Z",
          "shell.execute_reply": "2024-04-16T18:54:32.694984Z"
        },
        "trusted": true,
        "id": "j8Gekkrm_tV0"
      },
      "execution_count": null,
      "outputs": []
    },
    {
      "cell_type": "code",
      "source": [
        "def initialize_weights(input_size, hidden_units, output_size):\n",
        "    np.random.seed(42)\n",
        "    layer_units = hidden_units + [output_size]\n",
        "    weights = {}\n",
        "    biases = {}\n",
        "\n",
        "    for i in range(len(layer_units)):\n",
        "        weights[i] = np.random.randn(input_size if i == 0 else layer_units[i-1], layer_units[i]) * 0.01\n",
        "        biases[i] = np.zeros((1, layer_units[i]))\n",
        "\n",
        "    return weights, biases"
      ],
      "metadata": {
        "execution": {
          "iopub.status.busy": "2024-04-16T18:54:32.697454Z",
          "iopub.execute_input": "2024-04-16T18:54:32.697883Z",
          "iopub.status.idle": "2024-04-16T18:54:32.710343Z",
          "shell.execute_reply.started": "2024-04-16T18:54:32.697851Z",
          "shell.execute_reply": "2024-04-16T18:54:32.709396Z"
        },
        "trusted": true,
        "id": "Y61r4czo_tV2"
      },
      "execution_count": null,
      "outputs": []
    },
    {
      "cell_type": "code",
      "source": [
        "weights, biases = initialize_weights(input_size, hidden_units, output_size)"
      ],
      "metadata": {
        "execution": {
          "iopub.status.busy": "2024-04-16T18:54:32.712064Z",
          "iopub.execute_input": "2024-04-16T18:54:32.712357Z",
          "iopub.status.idle": "2024-04-16T18:54:32.737509Z",
          "shell.execute_reply.started": "2024-04-16T18:54:32.712334Z",
          "shell.execute_reply": "2024-04-16T18:54:32.736430Z"
        },
        "trusted": true,
        "id": "jurmxT0L_tV7"
      },
      "execution_count": null,
      "outputs": []
    },
    {
      "cell_type": "code",
      "source": [
        "def relu_activation(Z):\n",
        "    return np.maximum(0, Z)"
      ],
      "metadata": {
        "execution": {
          "iopub.status.busy": "2024-04-16T18:54:32.738820Z",
          "iopub.execute_input": "2024-04-16T18:54:32.739694Z",
          "iopub.status.idle": "2024-04-16T18:54:32.744344Z",
          "shell.execute_reply.started": "2024-04-16T18:54:32.739660Z",
          "shell.execute_reply": "2024-04-16T18:54:32.743219Z"
        },
        "trusted": true,
        "id": "G_zry5gA_tV-"
      },
      "execution_count": null,
      "outputs": []
    },
    {
      "cell_type": "code",
      "source": [
        "def softmax_activation(Z):\n",
        "    expZ = np.exp(Z - np.max(Z))\n",
        "    return expZ / expZ.sum(axis=1, keepdims=True)"
      ],
      "metadata": {
        "execution": {
          "iopub.status.busy": "2024-04-16T18:54:32.745779Z",
          "iopub.execute_input": "2024-04-16T18:54:32.746113Z",
          "iopub.status.idle": "2024-04-16T18:54:32.756156Z",
          "shell.execute_reply.started": "2024-04-16T18:54:32.746077Z",
          "shell.execute_reply": "2024-04-16T18:54:32.755192Z"
        },
        "trusted": true,
        "id": "4cSItyZz_tWA"
      },
      "execution_count": null,
      "outputs": []
    },
    {
      "cell_type": "code",
      "source": [
        "def relu_derivative(Z):\n",
        "    return Z > 0"
      ],
      "metadata": {
        "execution": {
          "iopub.status.busy": "2024-04-16T18:54:32.757731Z",
          "iopub.execute_input": "2024-04-16T18:54:32.758171Z",
          "iopub.status.idle": "2024-04-16T18:54:32.769908Z",
          "shell.execute_reply.started": "2024-04-16T18:54:32.758140Z",
          "shell.execute_reply": "2024-04-16T18:54:32.768452Z"
        },
        "trusted": true,
        "id": "TjtY2VzE_tWB"
      },
      "execution_count": null,
      "outputs": []
    },
    {
      "cell_type": "code",
      "source": [
        "def forward_pass(X, weights, biases):\n",
        "    activations = []\n",
        "    Z = X\n",
        "    for i in range(len(weights)-1):\n",
        "        Z = relu_activation(np.dot(Z, weights[i]) + biases[i])\n",
        "        activations.append(Z)\n",
        "    output = softmax_activation(np.dot(Z, weights[len(weights)-1]) + biases[len(weights)-1])\n",
        "    activations.append(output)\n",
        "    return activations"
      ],
      "metadata": {
        "execution": {
          "iopub.status.busy": "2024-04-16T18:54:32.773399Z",
          "iopub.execute_input": "2024-04-16T18:54:32.773852Z",
          "iopub.status.idle": "2024-04-16T18:54:32.780771Z",
          "shell.execute_reply.started": "2024-04-16T18:54:32.773810Z",
          "shell.execute_reply": "2024-04-16T18:54:32.779889Z"
        },
        "trusted": true,
        "id": "Kp1JNH1w_tWC"
      },
      "execution_count": null,
      "outputs": []
    },
    {
      "cell_type": "code",
      "source": [
        "def backward_pass(X, y, weights, biases, activations):\n",
        "    gradients_weights = {}\n",
        "    gradients_biases = {}\n",
        "    L = len(weights)\n",
        "    output = activations[-1]\n",
        "    delta = output - y\n",
        "\n",
        "    for i in reversed(range(L)):\n",
        "        gradients_weights[i] = np.dot(activations[i-1].T, delta) if i > 0 else np.dot(X.T, delta)\n",
        "        gradients_biases[i] = np.sum(delta, axis=0, keepdims=True)\n",
        "        if i > 0:\n",
        "            delta = np.dot(delta, weights[i].T) * relu_derivative(activations[i-1])\n",
        "\n",
        "    return gradients_weights, gradients_biases"
      ],
      "metadata": {
        "execution": {
          "iopub.status.busy": "2024-04-16T18:54:32.781967Z",
          "iopub.execute_input": "2024-04-16T18:54:32.782341Z",
          "iopub.status.idle": "2024-04-16T18:54:32.798532Z",
          "shell.execute_reply.started": "2024-04-16T18:54:32.782298Z",
          "shell.execute_reply": "2024-04-16T18:54:32.797349Z"
        },
        "trusted": true,
        "id": "5kli4pIh_tWD"
      },
      "execution_count": null,
      "outputs": []
    },
    {
      "cell_type": "code",
      "source": [
        "for epoch in range(epochs):\n",
        "    activations = forward_pass(X_train, weights, biases)\n",
        "    gradients_weights, gradients_biases = backward_pass(X_train, y_train, weights, biases, activations)\n",
        "\n",
        "    for i in range(len(weights)):\n",
        "        weights[i] -= learning_rate * gradients_weights[i]\n",
        "        biases[i] -= learning_rate * gradients_biases[i]\n",
        "\n",
        "    train_output = activations[-1]\n",
        "    loss = -np.mean(np.log(train_output[np.arange(len(y_train)), y_train.argmax(axis=1)]))\n",
        "    predictions = np.argmax(train_output, axis=1)\n",
        "    accuracy = np.mean(predictions == np.argmax(y_train, axis=1))\n",
        "\n",
        "test_activations = forward_pass(X_test, weights, biases)\n",
        "test_output = test_activations[-1]\n",
        "test_predictions = np.argmax(test_output, axis=1)\n",
        "print(\"Test Accuracy:\", accuracy_score(np.argmax(y_test, axis=1), test_predictions))\n",
        "print(\"Classification Report:\")\n",
        "print(classification_report(np.argmax(y_test, axis=1), test_predictions))"
      ],
      "metadata": {
        "execution": {
          "iopub.status.busy": "2024-04-16T18:54:32.799998Z",
          "iopub.execute_input": "2024-04-16T18:54:32.800315Z",
          "iopub.status.idle": "2024-04-16T18:54:34.054344Z",
          "shell.execute_reply.started": "2024-04-16T18:54:32.800290Z",
          "shell.execute_reply": "2024-04-16T18:54:34.053325Z"
        },
        "trusted": true,
        "id": "A8oZbBqk_tWE",
        "outputId": "c3912baf-7a60-44a1-8d72-51aa7dc36e48"
      },
      "execution_count": null,
      "outputs": [
        {
          "name": "stderr",
          "text": "/tmp/ipykernel_33/2967250671.py:10: RuntimeWarning: divide by zero encountered in log\n  loss = -np.mean(np.log(train_output[np.arange(len(y_train)), y_train.argmax(axis=1)]))\n/tmp/ipykernel_33/2561999921.py:3: RuntimeWarning: invalid value encountered in divide\n  return expZ / expZ.sum(axis=1, keepdims=True)\n",
          "output_type": "stream"
        },
        {
          "name": "stdout",
          "text": "Test Accuracy: 0.1863425925925926\nClassification Report:\n              precision    recall  f1-score   support\n\n           0       0.19      1.00      0.31       161\n           1       0.00      0.00      0.00       224\n           2       0.00      0.00      0.00       156\n           3       0.00      0.00      0.00       144\n           4       0.00      0.00      0.00       179\n\n    accuracy                           0.19       864\n   macro avg       0.04      0.20      0.06       864\nweighted avg       0.03      0.19      0.06       864\n\n",
          "output_type": "stream"
        },
        {
          "name": "stderr",
          "text": "/opt/conda/lib/python3.10/site-packages/sklearn/metrics/_classification.py:1344: UndefinedMetricWarning: Precision and F-score are ill-defined and being set to 0.0 in labels with no predicted samples. Use `zero_division` parameter to control this behavior.\n  _warn_prf(average, modifier, msg_start, len(result))\n/opt/conda/lib/python3.10/site-packages/sklearn/metrics/_classification.py:1344: UndefinedMetricWarning: Precision and F-score are ill-defined and being set to 0.0 in labels with no predicted samples. Use `zero_division` parameter to control this behavior.\n  _warn_prf(average, modifier, msg_start, len(result))\n/opt/conda/lib/python3.10/site-packages/sklearn/metrics/_classification.py:1344: UndefinedMetricWarning: Precision and F-score are ill-defined and being set to 0.0 in labels with no predicted samples. Use `zero_division` parameter to control this behavior.\n  _warn_prf(average, modifier, msg_start, len(result))\n",
          "output_type": "stream"
        }
      ]
    }
  ]
}