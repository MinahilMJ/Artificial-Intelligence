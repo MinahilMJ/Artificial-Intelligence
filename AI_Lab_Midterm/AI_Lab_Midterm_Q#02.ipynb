import heapq

class PuzzleState:
    def __init__(self, board, goal, g=0, parent=None):
        self.board = board
        self.goal = goal
        self.g = g
        self.h = self.heuristic()
        self.f = self.g + self.h
        self.parent = parent

    def heuristic(self):
        # Manhattan distance
        distance = 0
        for i in range(len(self.board)):
            for j in range(len(self.board[i])):
                if self.board[i][j] != 0:
                    x, y = divmod(self.goal.index(self.board[i][j]), 3)
                    distance += abs(x - i) + abs(y - j)
        return distance

    def is_goal(self):
        return self.board == self.goal

    def get_neighbors(self):
        neighbors = []
        x, y = next((i, j) for i, row in enumerate(self.board) for j, val in enumerate(row) if val == 0)
        directions = [(x - 1, y), (x + 1, y), (x, y - 1), (x, y + 1)]
        for dx, dy in directions:
            if 0 <= dx < 3 and 0 <= dy < 3:
                new_board = [row[:] for row in self.board]
                new_board[x][y], new_board[dx][dy] = new_board[dx][dy], new_board[x][y]
                neighbors.append(PuzzleState(new_board, self.goal, self.g + 1, self))
        return neighbors

    def __lt__(self, other):
        return self.f < other.f

def a_star(initial_board, goal_board):
    open_list = []
    closed_list = set()
    initial_state = PuzzleState(initial_board, goal_board)
    heapq.heappush(open_list, initial_state)

    while open_list:
        current_state = heapq.heappop(open_list)
        if current_state.is_goal():
            return reconstruct_path(current_state)

        closed_list.add(tuple(map(tuple, current_state.board)))
        for neighbor in current_state.get_neighbors():
            if tuple(map(tuple, neighbor.board)) in closed_list:
                continue
            if neighbor not in open_list or neighbor.g < current_state.g:
                heapq.heappush(open_list, neighbor)

def reconstruct_path(state):
    path = []
    while state:
        path.append(state.board)
        state = state.parent
    return path[::-1]

def print_path(path):
    for step in path:
        for row in step:
            print(row)
        print()

# Example usage:
initial_board = [
    [2, 8, 3],
    [1, 6, 4],
    [7, 0, 5]
]

goal_board = [
    [1, 2, 3],
    [8, 0, 4],
    [7, 6, 5]
]

path = a_star(initial_board, goal_board)
print_path(path)
