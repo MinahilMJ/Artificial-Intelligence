import heapq

# Define the grid with blocked cells
grid = [
    [0, 1, 0],
    [1, 0, 0],
    [0, 0, 0]
]

# Define the directions for movement (right, left, up, down)
directions = [(0, 1), (1, 0), (0, -1), (-1, 0)]

def heuristic(a, b):
    """Calculate the Manhattan distance heuristic."""
    return abs(a[0] - b[0]) + abs(a[1] - b[1])

def a_star(start, goal, grid):
    """Perform A* algorithm to find the shortest path."""
    rows, cols = len(grid), len(grid[0])
    open_set = []
    heapq.heappush(open_set, (0, start))
    
    g_costs = {start: 0}
    f_costs = {start: heuristic(start, goal)}
    came_from = {start: None}
    
    while open_set:
        current = heapq.heappop(open_set)[1]
        
        if current == goal:
            path = []
            while current:
                path.append(current)
                current = came_from[current]
            path.reverse()
            return g_costs[goal], path
        
        for direction in directions:
            neighbor = (current[0] + direction[0], current[1] + direction[1])
            
            if 0 <= neighbor[0] < rows and 0 <= neighbor[1] < cols and grid[neighbor[0]][neighbor[1]] == 0:
                tentative_g_cost = g_costs[current] + 1
                
                if neighbor not in g_costs or tentative_g_cost < g_costs[neighbor]:
                    g_costs[neighbor] = tentative_g_cost
                    f_costs[neighbor] = tentative_g_cost + heuristic(neighbor, goal)
                    heapq.heappush(open_set, (f_costs[neighbor], neighbor))
                    came_from[neighbor] = current
    
    return float('inf'), []  # If no path is found

start = (0, 0)
goal = (2, 2)
steps, path = a_star(start, goal, grid)

print("Minimum number of steps:", steps)
print("Path:", path)
