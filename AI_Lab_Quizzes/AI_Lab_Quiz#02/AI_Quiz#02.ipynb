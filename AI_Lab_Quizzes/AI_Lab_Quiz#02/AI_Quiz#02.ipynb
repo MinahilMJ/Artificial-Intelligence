import random

# Step 1: Read Flight Data
def read_flight_data(file_path):
    with open(file_path, 'r') as file:
        flights = [line.strip().split(',') for line in file]
    return flights

# Step 2: Initialize Population
def initialize_population(flights, num_people, population_size):
    population = []
    for _ in range(population_size):
        individual = []
        for _ in range(num_people):
            flight = random.choice(flights)
            individual.append(tuple(flight))
        population.append(individual)
    return population

# Step 3: Fitness Function
def calculate_fitness(individual):
    total_cost = sum(int(flight[4]) for flight in individual)
    return total_cost

# Step 4: Selection
def selection(population):
    population.sort(key=calculate_fitness)
    return population[:len(population)//2]

# Step 5: Crossover
def crossover(parent1, parent2):
    crossover_point = len(parent1) // 2
    child1 = parent1[:crossover_point] + parent2[crossover_point:]
    child2 = parent2[:crossover_point] + parent1[crossover_point:]
    return child1, child2

# Step 6: Mutation
def mutate(individual, flights):
    mutation_point = random.randint(0, len(individual) - 1)
    individual[mutation_point] = tuple(random.choice(flights))
    return individual

# Step 7: Main GA Loop
def genetic_algorithm(flights, num_people, population_size, generations):
    population = initialize_population(flights, num_people, population_size)
    for _ in range(generations):
        selected_population = selection(population)
        next_population = []
        while len(next_population) < population_size:
            parent1, parent2 = random.sample(selected_population, 2)
            child1, child2 = crossover(parent1, parent2)
            next_population.extend([mutate(child1, flights), mutate(child2, flights)])
        population = next_population
    return selection(population)[0]

# Example Usage
file_path = 'schedule.txt'
flights = read_flight_data(file_path)
num_people = 2
population_size = 10
generations = 100

best_schedule = genetic_algorithm(flights, num_people, population_size, generations)
print(f"Optimal Schedule: {best_schedule}")
print(f"Total Cost: {calculate_fitness(best_schedule)}")
